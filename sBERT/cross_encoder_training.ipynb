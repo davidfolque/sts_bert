{
 "cells": [
  {
   "cell_type": "code",
   "execution_count": 1,
   "outputs": [],
   "source": [
    "# Only needed in pycharm\n",
    "import os\n",
    "os.chdir('/home/cs-folq1/src/sts_bert/sBERT')"
   ],
   "metadata": {
    "collapsed": false,
    "pycharm": {
     "name": "#%%\n"
    }
   }
  },
  {
   "cell_type": "code",
   "execution_count": 2,
   "metadata": {
    "collapsed": true
   },
   "outputs": [
    {
     "name": "stderr",
     "output_type": "stream",
     "text": [
      "Reusing dataset stsb_multi_mt (/home/cs-folq1/.cache/huggingface/datasets/stsb_multi_mt/en/1.0.0/bc6de0eaa8d97c28a4c22a07e851b05879ae62c60b0b69dd6b331339e8020f07)\n",
      "Some weights of the model checkpoint at bert-base-uncased were not used when initializing BertModel: ['cls.predictions.decoder.weight', 'cls.predictions.transform.dense.weight', 'cls.predictions.bias', 'cls.predictions.transform.LayerNorm.bias', 'cls.predictions.transform.dense.bias', 'cls.predictions.transform.LayerNorm.weight', 'cls.seq_relationship.weight', 'cls.seq_relationship.bias']\n",
      "- This IS expected if you are initializing BertModel from the checkpoint of a model trained on another task or with another architecture (e.g. initializing a BertForSequenceClassification model from a BertForPreTraining model).\n",
      "- This IS NOT expected if you are initializing BertModel from the checkpoint of a model that you expect to be exactly identical (initializing a BertForSequenceClassification model from a BertForSequenceClassification model).\n"
     ]
    },
    {
     "name": "stdout",
     "output_type": "stream",
     "text": [
      "Epoch 1   : loss: 0.0337  , score: 0.8295  *\n",
      "Test loss: 0.0406, score: 0.7751\n",
      "Test score: 0.7751\n"
     ]
    }
   ],
   "source": [
    "from CrossEncoder import CrossEncoder, CrossEncoderTrainer\n",
    "from datasets import load_dataset\n",
    "\n",
    "dataset = load_dataset(\"stsb_multi_mt\", name=\"en\")\n",
    "\n",
    "model = CrossEncoder(mode='cls-pooling')\n",
    "trainer = CrossEncoderTrainer(model=model, train_dataset=dataset['train'], dataset=dataset, lr=2e-5)\n",
    "crossencoder_result = trainer.train(num_epochs=1, disable_progress_bar=True)[0]\n",
    "print('Test score: {:.4f}'.format(crossencoder_result))"
   ]
  }
 ],
 "metadata": {
  "kernelspec": {
   "name": "pytorch_env",
   "language": "python",
   "display_name": "pytorch_env"
  },
  "language_info": {
   "codemirror_mode": {
    "name": "ipython",
    "version": 2
   },
   "file_extension": ".py",
   "mimetype": "text/x-python",
   "name": "python",
   "nbconvert_exporter": "python",
   "pygments_lexer": "ipython2",
   "version": "2.7.6"
  }
 },
 "nbformat": 4,
 "nbformat_minor": 0
}