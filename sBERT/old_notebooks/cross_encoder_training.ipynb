{
 "cells": [
  {
   "cell_type": "code",
   "execution_count": 1,
   "outputs": [],
   "source": [
    "# Only needed in pycharm\n",
    "import os\n",
    "os.chdir('/home/cs-folq1/src/sts_bert/sBERT')"
   ],
   "metadata": {
    "collapsed": false,
    "pycharm": {
     "name": "#%%\n"
    }
   }
  },
  {
   "cell_type": "code",
   "execution_count": 2,
   "metadata": {
    "collapsed": true
   },
   "outputs": [
    {
     "name": "stderr",
     "output_type": "stream",
     "text": [
      "Reusing dataset stsb_multi_mt (/home/cs-folq1/.cache/huggingface/datasets/stsb_multi_mt/en/1.0.0/bc6de0eaa8d97c28a4c22a07e851b05879ae62c60b0b69dd6b331339e8020f07)\n",
      "Some weights of the model checkpoint at bert-base-uncased were not used when initializing BertModel: ['cls.predictions.decoder.weight', 'cls.predictions.transform.dense.weight', 'cls.predictions.bias', 'cls.predictions.transform.LayerNorm.bias', 'cls.predictions.transform.dense.bias', 'cls.predictions.transform.LayerNorm.weight', 'cls.seq_relationship.weight', 'cls.seq_relationship.bias']\n",
      "- This IS expected if you are initializing BertModel from the checkpoint of a model trained on another task or with another architecture (e.g. initializing a BertForSequenceClassification model from a BertForPreTraining model).\n",
      "- This IS NOT expected if you are initializing BertModel from the checkpoint of a model that you expect to be exactly identical (initializing a BertForSequenceClassification model from a BertForSequenceClassification model).\n"
     ]
    },
    {
     "name": "stdout",
     "output_type": "stream",
     "text": [
      "Epoch 1   : loss: 0.0337  , score: 0.8295  *\n",
      "Test loss: 0.0406, score: 0.7751\n",
      "Test score: 0.7751\n"
     ]
    }
   ],
   "source": [
    "from CrossEncoder import CrossEncoder, CrossEncoderTrainer\n",
    "from datasets import load_dataset\n",
    "\n",
    "dataset = load_dataset(\"stsb_multi_mt\", name=\"en\")\n",
    "\n",
    "model = CrossEncoder(mode='cls-pooling')\n",
    "trainer = CrossEncoderTrainer(model=model, train_dataset=dataset['train'], dataset=dataset,\n",
    "                              num_epochs=1)\n",
    "crossencoder_result = trainer.train(disable_progress_bar=True)[0]\n",
    "print('Test score: {:.4f}'.format(crossencoder_result))"
   ]
  },
  {
   "cell_type": "code",
   "execution_count": null,
   "outputs": [],
   "source": [],
   "metadata": {
    "collapsed": false,
    "pycharm": {
     "name": "#%%\n"
    }
   }
  },
  {
   "cell_type": "code",
   "execution_count": 5,
   "outputs": [],
   "source": [
    "from transformers import get_scheduler\n",
    "import torch.nn as nn\n",
    "from torch.optim import AdamW\n",
    "lin = nn.Linear(10,10)\n",
    "optimizer = AdamW(lin.parameters(), lr=2e-5)\n",
    "constant_scheduler = get_scheduler('linear', optimizer, num_warmup_steps=10,\n",
    "                                   num_training_steps=100)"
   ],
   "metadata": {
    "collapsed": false,
    "pycharm": {
     "name": "#%%\n"
    }
   }
  },
  {
   "cell_type": "code",
   "execution_count": 6,
   "outputs": [
    {
     "name": "stdout",
     "output_type": "stream",
     "text": [
      "0.0\n",
      "2.0000000000000003e-06\n",
      "4.000000000000001e-06\n",
      "6e-06\n",
      "8.000000000000001e-06\n",
      "1e-05\n",
      "1.2e-05\n",
      "1.4e-05\n",
      "1.6000000000000003e-05\n",
      "1.8e-05\n",
      "2e-05\n",
      "1.977777777777778e-05\n",
      "1.9555555555555557e-05\n",
      "1.9333333333333333e-05\n",
      "1.9111111111111113e-05\n"
     ]
    }
   ],
   "source": [
    "for i in range(15):\n",
    "    print(optimizer.param_groups[0]['lr'])\n",
    "    constant_scheduler.step()\n"
   ],
   "metadata": {
    "collapsed": false,
    "pycharm": {
     "name": "#%%\n"
    }
   }
  }
 ],
 "metadata": {
  "kernelspec": {
   "name": "pytorch_env",
   "language": "python",
   "display_name": "pytorch_env"
  },
  "language_info": {
   "codemirror_mode": {
    "name": "ipython",
    "version": 2
   },
   "file_extension": ".py",
   "mimetype": "text/x-python",
   "name": "python",
   "nbconvert_exporter": "python",
   "pygments_lexer": "ipython2",
   "version": "2.7.6"
  }
 },
 "nbformat": 4,
 "nbformat_minor": 0
}