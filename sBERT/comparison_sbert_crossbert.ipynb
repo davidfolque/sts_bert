{
 "cells": [
  {
   "cell_type": "code",
   "execution_count": 1,
   "metadata": {
    "collapsed": true,
    "pycharm": {
     "name": "#%%\n"
    }
   },
   "outputs": [],
   "source": [
    "# Only needed in pycharm\n",
    "import os\n",
    "os.chdir('/home/cs-folq1/src/sts_bert/sBERT')"
   ]
  },
  {
   "cell_type": "code",
   "execution_count": 2,
   "metadata": {
    "pycharm": {
     "name": "#%%\n"
    }
   },
   "outputs": [],
   "source": [
    "import torch\n",
    "from torch.utils.data import DataLoader\n",
    "\n",
    "from BiEncoder import BiEncoder\n",
    "from CrossEncoder import CrossEncoder\n",
    "from STSTrainer import STSTrainer\n",
    "from Datasets import load_sts\n",
    "from GridRun import GridRun, random_sample"
   ]
  },
  {
   "cell_type": "code",
   "execution_count": 3,
   "outputs": [
    {
     "name": "stderr",
     "output_type": "stream",
     "text": [
      "Reusing dataset stsb_multi_mt (/home/cs-folq1/.cache/huggingface/datasets/stsb_multi_mt/en/1.0.0/bc6de0eaa8d97c28a4c22a07e851b05879ae62c60b0b69dd6b331339e8020f07)\n"
     ]
    }
   ],
   "source": [
    "dataset = load_sts()"
   ],
   "metadata": {
    "collapsed": false,
    "pycharm": {
     "name": "#%%\n"
    }
   }
  },
  {
   "cell_type": "code",
   "execution_count": 4,
   "outputs": [
    {
     "name": "stdout",
     "output_type": "stream",
     "text": [
      "Loading previous results from results/pretraining_sts/results_210707_152607.csv\n",
      "Results will be stored in file results_210708_100708\n",
      "Already done: {'batch_size': [16.0], 'lr': [2e-05], 'lr_scheduler': ['linear'], 'mode': ['bi-encoder/nli-cls-pooling'], 'num_epochs': [10.0], 'test_score': [0.8376018218342469], 'train_size': [5749.0], 'train_subset_seed': [1.0], 'warmup_percent': [0.2]}\n",
      "Repeating experiment\n",
      "----------\n",
      "RUN CONFIG\n",
      "----------\n",
      "num_epochs :  10\n",
      "batch_size :  16\n",
      "lr :  2e-05\n",
      "lr_scheduler :  linear\n",
      "warmup_percent :  0.2\n",
      "mode :  bi-encoder/nli-cls-pooling\n",
      "train_size :  5749\n",
      "train_subset_seed :  1\n"
     ]
    },
    {
     "name": "stderr",
     "output_type": "stream",
     "text": [
      "  0%|          | 0/360 [00:00<?, ?it/s]"
     ]
    },
    {
     "name": "stdout",
     "output_type": "stream",
     "text": [
      "Scheduler type: linear, epochs: 10, steps per epoch: 360, total steps: 3600, warmup steps: 720\n"
     ]
    },
    {
     "name": "stderr",
     "output_type": "stream",
     "text": [
      "100%|██████████| 360/360 [00:49<00:00,  7.26it/s]\n",
      "100%|██████████| 94/94 [00:03<00:00, 23.57it/s]\n",
      "  0%|          | 0/360 [00:00<?, ?it/s]"
     ]
    },
    {
     "name": "stdout",
     "output_type": "stream",
     "text": [
      "Epoch 1   : loss: 0.0378  , score: 0.8405  *\n"
     ]
    },
    {
     "name": "stderr",
     "output_type": "stream",
     "text": [
      "100%|██████████| 360/360 [00:49<00:00,  7.30it/s]\n",
      "100%|██████████| 94/94 [00:03<00:00, 23.68it/s]\n",
      "  0%|          | 1/360 [00:00<00:46,  7.77it/s]"
     ]
    },
    {
     "name": "stdout",
     "output_type": "stream",
     "text": [
      "Epoch 2   : loss: 0.0322  , score: 0.8593  *\n"
     ]
    },
    {
     "name": "stderr",
     "output_type": "stream",
     "text": [
      "100%|██████████| 360/360 [00:49<00:00,  7.34it/s]\n",
      "100%|██████████| 94/94 [00:03<00:00, 23.69it/s]\n",
      "  0%|          | 1/360 [00:00<00:56,  6.40it/s]"
     ]
    },
    {
     "name": "stdout",
     "output_type": "stream",
     "text": [
      "Epoch 3   : loss: 0.0306  , score: 0.8640  *\n"
     ]
    },
    {
     "name": "stderr",
     "output_type": "stream",
     "text": [
      "100%|██████████| 360/360 [00:49<00:00,  7.33it/s]\n",
      "100%|██████████| 94/94 [00:03<00:00, 23.69it/s]\n",
      "  0%|          | 1/360 [00:00<00:45,  7.81it/s]"
     ]
    },
    {
     "name": "stdout",
     "output_type": "stream",
     "text": [
      "Epoch 4   : loss: 0.0314  , score: 0.8638  \n"
     ]
    },
    {
     "name": "stderr",
     "output_type": "stream",
     "text": [
      "100%|██████████| 360/360 [00:49<00:00,  7.34it/s]\n",
      "100%|██████████| 94/94 [00:03<00:00, 23.74it/s]\n",
      "  0%|          | 1/360 [00:00<00:57,  6.20it/s]"
     ]
    },
    {
     "name": "stdout",
     "output_type": "stream",
     "text": [
      "Epoch 5   : loss: 0.0312  , score: 0.8656  *\n"
     ]
    },
    {
     "name": "stderr",
     "output_type": "stream",
     "text": [
      "100%|██████████| 360/360 [00:48<00:00,  7.35it/s]\n",
      "100%|██████████| 94/94 [00:03<00:00, 23.67it/s]\n",
      "  0%|          | 1/360 [00:00<00:46,  7.80it/s]"
     ]
    },
    {
     "name": "stdout",
     "output_type": "stream",
     "text": [
      "Epoch 6   : loss: 0.0315  , score: 0.8657  *\n"
     ]
    },
    {
     "name": "stderr",
     "output_type": "stream",
     "text": [
      "100%|██████████| 360/360 [00:49<00:00,  7.29it/s]\n",
      "100%|██████████| 94/94 [00:03<00:00, 23.71it/s]\n",
      "  0%|          | 1/360 [00:00<00:46,  7.70it/s]"
     ]
    },
    {
     "name": "stdout",
     "output_type": "stream",
     "text": [
      "Epoch 7   : loss: 0.0324  , score: 0.8646  \n"
     ]
    },
    {
     "name": "stderr",
     "output_type": "stream",
     "text": [
      "100%|██████████| 360/360 [00:49<00:00,  7.29it/s]\n",
      "100%|██████████| 94/94 [00:03<00:00, 23.74it/s]\n",
      "  0%|          | 1/360 [00:00<00:45,  7.95it/s]"
     ]
    },
    {
     "name": "stdout",
     "output_type": "stream",
     "text": [
      "Epoch 8   : loss: 0.0319  , score: 0.8664  *\n"
     ]
    },
    {
     "name": "stderr",
     "output_type": "stream",
     "text": [
      "100%|██████████| 360/360 [00:49<00:00,  7.31it/s]\n",
      "100%|██████████| 94/94 [00:03<00:00, 23.67it/s]\n",
      "  0%|          | 1/360 [00:00<00:46,  7.78it/s]"
     ]
    },
    {
     "name": "stdout",
     "output_type": "stream",
     "text": [
      "Epoch 9   : loss: 0.0319  , score: 0.8661  \n"
     ]
    },
    {
     "name": "stderr",
     "output_type": "stream",
     "text": [
      "100%|██████████| 360/360 [00:49<00:00,  7.32it/s]\n",
      "100%|██████████| 94/94 [00:03<00:00, 23.65it/s]\n",
      "  6%|▌         | 5/87 [00:00<00:02, 40.89it/s]"
     ]
    },
    {
     "name": "stdout",
     "output_type": "stream",
     "text": [
      "Epoch 10  : loss: 0.0321  , score: 0.8665  *\n"
     ]
    },
    {
     "name": "stderr",
     "output_type": "stream",
     "text": [
      "100%|██████████| 87/87 [00:03<00:00, 26.05it/s]\n"
     ]
    },
    {
     "name": "stdout",
     "output_type": "stream",
     "text": [
      "Test loss: 0.0391, score: 0.8459\n",
      "Test score: 0.8459\n",
      "Max RAM used: 3.08 Gb\n",
      "User time: 7.74 min\n",
      "GPU usage: total 15.90 Gb, reserved 3.82, allocated 0.83\n",
      "Best bi-encoder_nli-cls-pooling model stored in file results/pretraining_sts/results_210708_100708_bi-encoder_nli-cls-pooling_best_model.bin\n",
      "Already done: {'batch_size': [16.0], 'lr': [2e-05], 'lr_scheduler': ['linear'], 'mode': ['bi-encoder/nli-mean-pooling'], 'num_epochs': [10.0], 'test_score': [0.8521477459154022], 'train_size': [5749.0], 'train_subset_seed': [1.0], 'warmup_percent': [0.2]}\n",
      "Repeating experiment\n",
      "----------\n",
      "RUN CONFIG\n",
      "----------\n",
      "num_epochs :  10\n",
      "batch_size :  16\n",
      "lr :  2e-05\n",
      "lr_scheduler :  linear\n",
      "warmup_percent :  0.2\n",
      "mode :  bi-encoder/nli-mean-pooling\n",
      "train_size :  5749\n",
      "train_subset_seed :  1\n"
     ]
    },
    {
     "data": {
      "text/plain": "HBox(children=(FloatProgress(value=0.0, description='Downloading', max=438007537.0, style=ProgressStyle(descri…",
      "application/vnd.jupyter.widget-view+json": {
       "version_major": 2,
       "version_minor": 0,
       "model_id": "48edb91775f24370919bda92edbd2307"
      }
     },
     "metadata": {},
     "output_type": "display_data"
    },
    {
     "name": "stdout",
     "output_type": "stream",
     "text": [
      "\n"
     ]
    },
    {
     "data": {
      "text/plain": "HBox(children=(FloatProgress(value=0.0, description='Downloading', max=231508.0, style=ProgressStyle(descripti…",
      "application/vnd.jupyter.widget-view+json": {
       "version_major": 2,
       "version_minor": 0,
       "model_id": "4fd18817491c4cd2a8416ee6c3d3af1b"
      }
     },
     "metadata": {},
     "output_type": "display_data"
    },
    {
     "name": "stdout",
     "output_type": "stream",
     "text": [
      "\n"
     ]
    },
    {
     "data": {
      "text/plain": "HBox(children=(FloatProgress(value=0.0, description='Downloading', max=2.0, style=ProgressStyle(description_wi…",
      "application/vnd.jupyter.widget-view+json": {
       "version_major": 2,
       "version_minor": 0,
       "model_id": "46a6af628a71468fa7d45023c4529676"
      }
     },
     "metadata": {},
     "output_type": "display_data"
    },
    {
     "name": "stdout",
     "output_type": "stream",
     "text": [
      "\n"
     ]
    },
    {
     "data": {
      "text/plain": "HBox(children=(FloatProgress(value=0.0, description='Downloading', max=112.0, style=ProgressStyle(description_…",
      "application/vnd.jupyter.widget-view+json": {
       "version_major": 2,
       "version_minor": 0,
       "model_id": "e701ce80a470492a9a81e8a2b837590e"
      }
     },
     "metadata": {},
     "output_type": "display_data"
    },
    {
     "name": "stdout",
     "output_type": "stream",
     "text": [
      "\n"
     ]
    },
    {
     "data": {
      "text/plain": "HBox(children=(FloatProgress(value=0.0, description='Downloading', max=399.0, style=ProgressStyle(description_…",
      "application/vnd.jupyter.widget-view+json": {
       "version_major": 2,
       "version_minor": 0,
       "model_id": "ca6855acc09c469c829bed5262c61512"
      }
     },
     "metadata": {},
     "output_type": "display_data"
    },
    {
     "name": "stdout",
     "output_type": "stream",
     "text": [
      "\n"
     ]
    },
    {
     "data": {
      "text/plain": "HBox(children=(FloatProgress(value=0.0, description='Downloading', max=466081.0, style=ProgressStyle(descripti…",
      "application/vnd.jupyter.widget-view+json": {
       "version_major": 2,
       "version_minor": 0,
       "model_id": "b1c343436630461ea6998dbeb5c50b05"
      }
     },
     "metadata": {},
     "output_type": "display_data"
    },
    {
     "name": "stderr",
     "output_type": "stream",
     "text": [
      "  0%|          | 0/360 [00:00<?, ?it/s]"
     ]
    },
    {
     "name": "stdout",
     "output_type": "stream",
     "text": [
      "\n",
      "Scheduler type: linear, epochs: 10, steps per epoch: 360, total steps: 3600, warmup steps: 720\n"
     ]
    },
    {
     "name": "stderr",
     "output_type": "stream",
     "text": [
      "100%|██████████| 360/360 [00:48<00:00,  7.35it/s]\n",
      "100%|██████████| 94/94 [00:03<00:00, 23.60it/s]\n",
      "  0%|          | 1/360 [00:00<00:42,  8.50it/s]"
     ]
    },
    {
     "name": "stdout",
     "output_type": "stream",
     "text": [
      "Epoch 1   : loss: 0.0311  , score: 0.8437  *\n"
     ]
    },
    {
     "name": "stderr",
     "output_type": "stream",
     "text": [
      "100%|██████████| 360/360 [00:49<00:00,  7.33it/s]\n",
      "100%|██████████| 94/94 [00:03<00:00, 23.67it/s]\n",
      "  0%|          | 1/360 [00:00<01:03,  5.64it/s]"
     ]
    },
    {
     "name": "stdout",
     "output_type": "stream",
     "text": [
      "Epoch 2   : loss: 0.0269  , score: 0.8589  *\n"
     ]
    },
    {
     "name": "stderr",
     "output_type": "stream",
     "text": [
      "100%|██████████| 360/360 [00:48<00:00,  7.37it/s]\n",
      "100%|██████████| 94/94 [00:03<00:00, 23.67it/s]\n",
      "  0%|          | 1/360 [00:00<00:47,  7.56it/s]"
     ]
    },
    {
     "name": "stdout",
     "output_type": "stream",
     "text": [
      "Epoch 3   : loss: 0.0258  , score: 0.8632  *\n"
     ]
    },
    {
     "name": "stderr",
     "output_type": "stream",
     "text": [
      "100%|██████████| 360/360 [00:49<00:00,  7.33it/s]\n",
      "100%|██████████| 94/94 [00:03<00:00, 23.65it/s]\n",
      "  0%|          | 1/360 [00:00<00:48,  7.36it/s]"
     ]
    },
    {
     "name": "stdout",
     "output_type": "stream",
     "text": [
      "Epoch 4   : loss: 0.0256  , score: 0.8655  *\n"
     ]
    },
    {
     "name": "stderr",
     "output_type": "stream",
     "text": [
      "100%|██████████| 360/360 [00:54<00:00,  6.56it/s]\n",
      "100%|██████████| 94/94 [00:06<00:00, 14.20it/s]\n",
      "  0%|          | 0/360 [00:00<?, ?it/s]"
     ]
    },
    {
     "name": "stdout",
     "output_type": "stream",
     "text": [
      "Epoch 5   : loss: 0.0252  , score: 0.8680  *\n"
     ]
    },
    {
     "name": "stderr",
     "output_type": "stream",
     "text": [
      "100%|██████████| 360/360 [00:56<00:00,  6.39it/s]\n",
      "100%|██████████| 94/94 [00:03<00:00, 23.69it/s]\n",
      "  0%|          | 1/360 [00:00<00:48,  7.46it/s]"
     ]
    },
    {
     "name": "stdout",
     "output_type": "stream",
     "text": [
      "Epoch 6   : loss: 0.0250  , score: 0.8678  \n"
     ]
    },
    {
     "name": "stderr",
     "output_type": "stream",
     "text": [
      "100%|██████████| 360/360 [00:51<00:00,  6.97it/s]\n",
      "100%|██████████| 94/94 [00:05<00:00, 17.06it/s]\n",
      "  0%|          | 0/360 [00:00<?, ?it/s]"
     ]
    },
    {
     "name": "stdout",
     "output_type": "stream",
     "text": [
      "Epoch 7   : loss: 0.0252  , score: 0.8677  \n"
     ]
    },
    {
     "name": "stderr",
     "output_type": "stream",
     "text": [
      "100%|██████████| 360/360 [01:27<00:00,  4.10it/s]\n",
      "100%|██████████| 94/94 [00:03<00:00, 23.69it/s]\n",
      "  0%|          | 1/360 [00:00<00:48,  7.44it/s]"
     ]
    },
    {
     "name": "stdout",
     "output_type": "stream",
     "text": [
      "Epoch 8   : loss: 0.0253  , score: 0.8686  *\n"
     ]
    },
    {
     "name": "stderr",
     "output_type": "stream",
     "text": [
      "100%|██████████| 360/360 [00:49<00:00,  7.26it/s]\n",
      "100%|██████████| 94/94 [00:03<00:00, 23.80it/s]\n",
      "  0%|          | 1/360 [00:00<00:48,  7.39it/s]"
     ]
    },
    {
     "name": "stdout",
     "output_type": "stream",
     "text": [
      "Epoch 9   : loss: 0.0250  , score: 0.8694  *\n"
     ]
    },
    {
     "name": "stderr",
     "output_type": "stream",
     "text": [
      "100%|██████████| 360/360 [00:49<00:00,  7.32it/s]\n",
      "100%|██████████| 94/94 [00:03<00:00, 23.69it/s]\n",
      "  6%|▌         | 5/87 [00:00<00:02, 40.58it/s]"
     ]
    },
    {
     "name": "stdout",
     "output_type": "stream",
     "text": [
      "Epoch 10  : loss: 0.0251  , score: 0.8695  *\n"
     ]
    },
    {
     "name": "stderr",
     "output_type": "stream",
     "text": [
      "100%|██████████| 87/87 [00:03<00:00, 25.96it/s]\n"
     ]
    },
    {
     "name": "stdout",
     "output_type": "stream",
     "text": [
      "Test loss: 0.0322, score: 0.8493\n",
      "Test score: 0.8493\n",
      "Max RAM used: 3.71 Gb\n",
      "User time: 16.18 min\n",
      "GPU usage: total 15.90 Gb, reserved 3.90, allocated 0.82\n",
      "Best bi-encoder_nli-mean-pooling model stored in file results/pretraining_sts/results_210708_100708_bi-encoder_nli-mean-pooling_best_model.bin\n",
      "Already done: {'batch_size': [16.0], 'lr': [2e-05], 'lr_scheduler': ['linear'], 'mode': ['bi-encoder/nli-linear-pooling'], 'num_epochs': [10.0], 'test_score': [0.6399008242273966], 'train_size': [5749.0], 'train_subset_seed': [1.0], 'warmup_percent': [0.2]}\n",
      "Repeating experiment\n",
      "----------\n",
      "RUN CONFIG\n",
      "----------\n",
      "num_epochs :  10\n",
      "batch_size :  16\n",
      "lr :  2e-05\n",
      "lr_scheduler :  linear\n",
      "warmup_percent :  0.2\n",
      "mode :  bi-encoder/nli-linear-pooling\n",
      "train_size :  5749\n",
      "train_subset_seed :  1\n"
     ]
    },
    {
     "name": "stderr",
     "output_type": "stream",
     "text": [
      "  0%|          | 1/360 [00:00<01:00,  5.94it/s]"
     ]
    },
    {
     "name": "stdout",
     "output_type": "stream",
     "text": [
      "Scheduler type: linear, epochs: 10, steps per epoch: 360, total steps: 3600, warmup steps: 720\n"
     ]
    },
    {
     "name": "stderr",
     "output_type": "stream",
     "text": [
      "100%|██████████| 360/360 [00:49<00:00,  7.32it/s]\n",
      "100%|██████████| 94/94 [00:03<00:00, 23.65it/s]\n",
      "  0%|          | 1/360 [00:00<00:55,  6.43it/s]"
     ]
    },
    {
     "name": "stdout",
     "output_type": "stream",
     "text": [
      "Epoch 1   : loss: 0.0719  , score: 0.7398  *\n"
     ]
    },
    {
     "name": "stderr",
     "output_type": "stream",
     "text": [
      "100%|██████████| 360/360 [00:49<00:00,  7.27it/s]\n",
      "100%|██████████| 94/94 [00:03<00:00, 23.65it/s]\n",
      "  0%|          | 1/360 [00:00<00:42,  8.38it/s]"
     ]
    },
    {
     "name": "stdout",
     "output_type": "stream",
     "text": [
      "Epoch 2   : loss: 0.0644  , score: 0.7662  *\n"
     ]
    },
    {
     "name": "stderr",
     "output_type": "stream",
     "text": [
      "100%|██████████| 360/360 [00:48<00:00,  7.37it/s]\n",
      "100%|██████████| 94/94 [00:03<00:00, 23.61it/s]\n",
      "  0%|          | 1/360 [00:00<00:41,  8.62it/s]"
     ]
    },
    {
     "name": "stdout",
     "output_type": "stream",
     "text": [
      "Epoch 3   : loss: 0.0562  , score: 0.8019  *\n"
     ]
    },
    {
     "name": "stderr",
     "output_type": "stream",
     "text": [
      "100%|██████████| 360/360 [00:49<00:00,  7.27it/s]\n",
      "100%|██████████| 94/94 [00:03<00:00, 23.64it/s]\n",
      "  0%|          | 1/360 [00:00<00:44,  8.01it/s]"
     ]
    },
    {
     "name": "stdout",
     "output_type": "stream",
     "text": [
      "Epoch 4   : loss: 0.0532  , score: 0.8091  *\n"
     ]
    },
    {
     "name": "stderr",
     "output_type": "stream",
     "text": [
      "100%|██████████| 360/360 [00:48<00:00,  7.37it/s]\n",
      "100%|██████████| 94/94 [00:03<00:00, 23.66it/s]\n",
      "  0%|          | 1/360 [00:00<00:46,  7.75it/s]"
     ]
    },
    {
     "name": "stdout",
     "output_type": "stream",
     "text": [
      "Epoch 5   : loss: 0.0515  , score: 0.8142  *\n"
     ]
    },
    {
     "name": "stderr",
     "output_type": "stream",
     "text": [
      " 57%|█████▋    | 205/360 [00:28<00:21,  7.29it/s]\n"
     ]
    },
    {
     "ename": "KeyboardInterrupt",
     "evalue": "",
     "output_type": "error",
     "traceback": [
      "\u001B[0;31m---------------------------------------------------------------------------\u001B[0m",
      "\u001B[0;31mKeyboardInterrupt\u001B[0m                         Traceback (most recent call last)",
      "\u001B[0;32m<ipython-input-4-bc75143b6185>\u001B[0m in \u001B[0;36m<module>\u001B[0;34m\u001B[0m\n\u001B[1;32m     36\u001B[0m \u001B[0mgrid_run\u001B[0m \u001B[0;34m=\u001B[0m \u001B[0mGridRun\u001B[0m\u001B[0;34m(\u001B[0m\u001B[0mrun_experiment\u001B[0m\u001B[0;34m,\u001B[0m \u001B[0mresults_dir\u001B[0m\u001B[0;34m=\u001B[0m\u001B[0;34m'results'\u001B[0m\u001B[0;34m,\u001B[0m \u001B[0mexperiment_name\u001B[0m\u001B[0;34m=\u001B[0m\u001B[0;34m'pretraining_sts'\u001B[0m\u001B[0;34m)\u001B[0m\u001B[0;34m\u001B[0m\u001B[0;34m\u001B[0m\u001B[0m\n\u001B[1;32m     37\u001B[0m \u001B[0;31m#grid_run = GridRun(run_experiment)\u001B[0m\u001B[0;34m\u001B[0m\u001B[0;34m\u001B[0m\u001B[0;34m\u001B[0m\u001B[0m\n\u001B[0;32m---> 38\u001B[0;31m \u001B[0mgrid_run\u001B[0m\u001B[0;34m.\u001B[0m\u001B[0mrun\u001B[0m\u001B[0;34m(\u001B[0m\u001B[0mgrid\u001B[0m\u001B[0;34m,\u001B[0m \u001B[0msave_best\u001B[0m\u001B[0;34m=\u001B[0m\u001B[0;32mTrue\u001B[0m\u001B[0;34m,\u001B[0m \u001B[0mignore_previous_results\u001B[0m\u001B[0;34m=\u001B[0m\u001B[0;32mTrue\u001B[0m\u001B[0;34m)\u001B[0m\u001B[0;34m\u001B[0m\u001B[0;34m\u001B[0m\u001B[0m\n\u001B[0m\u001B[1;32m     39\u001B[0m \u001B[0;31m# grid_run.df_results\u001B[0m\u001B[0;34m\u001B[0m\u001B[0;34m\u001B[0m\u001B[0;34m\u001B[0m\u001B[0m\n\u001B[1;32m     40\u001B[0m \u001B[0;34m\u001B[0m\u001B[0m\n",
      "\u001B[0;32m~/src/sts_bert/sBERT/GridRun.py\u001B[0m in \u001B[0;36mrun\u001B[0;34m(self, grid, exec_name, ignore_previous_results, save_best)\u001B[0m\n\u001B[1;32m    117\u001B[0m             \u001B[0;32mfor\u001B[0m \u001B[0mkey\u001B[0m\u001B[0;34m,\u001B[0m \u001B[0mvalue\u001B[0m \u001B[0;32min\u001B[0m \u001B[0mconfig\u001B[0m\u001B[0;34m.\u001B[0m\u001B[0mitems\u001B[0m\u001B[0;34m(\u001B[0m\u001B[0;34m)\u001B[0m\u001B[0;34m:\u001B[0m\u001B[0;34m\u001B[0m\u001B[0;34m\u001B[0m\u001B[0m\n\u001B[1;32m    118\u001B[0m                 \u001B[0mprint\u001B[0m\u001B[0;34m(\u001B[0m\u001B[0mkey\u001B[0m\u001B[0;34m,\u001B[0m \u001B[0;34m': '\u001B[0m\u001B[0;34m,\u001B[0m \u001B[0mvalue\u001B[0m\u001B[0;34m)\u001B[0m\u001B[0;34m\u001B[0m\u001B[0;34m\u001B[0m\u001B[0m\n\u001B[0;32m--> 119\u001B[0;31m             \u001B[0mscore_and_loss\u001B[0m\u001B[0;34m,\u001B[0m \u001B[0mmodel\u001B[0m\u001B[0;34m,\u001B[0m \u001B[0msave_name\u001B[0m \u001B[0;34m=\u001B[0m \u001B[0mself\u001B[0m\u001B[0;34m.\u001B[0m\u001B[0mrun_experiment_fnc\u001B[0m\u001B[0;34m(\u001B[0m\u001B[0mconfig\u001B[0m\u001B[0;34m)\u001B[0m\u001B[0;34m\u001B[0m\u001B[0;34m\u001B[0m\u001B[0m\n\u001B[0m\u001B[1;32m    120\u001B[0m             \u001B[0mresult\u001B[0m \u001B[0;34m=\u001B[0m \u001B[0mscore_and_loss\u001B[0m\u001B[0;34m[\u001B[0m\u001B[0;36m0\u001B[0m\u001B[0;34m]\u001B[0m\u001B[0;34m\u001B[0m\u001B[0;34m\u001B[0m\u001B[0m\n\u001B[1;32m    121\u001B[0m             \u001B[0mprint\u001B[0m\u001B[0;34m(\u001B[0m\u001B[0;34m'Test score: {:.4f}'\u001B[0m\u001B[0;34m.\u001B[0m\u001B[0mformat\u001B[0m\u001B[0;34m(\u001B[0m\u001B[0mresult\u001B[0m\u001B[0;34m)\u001B[0m\u001B[0;34m)\u001B[0m\u001B[0;34m\u001B[0m\u001B[0;34m\u001B[0m\u001B[0m\n",
      "\u001B[0;32m<ipython-input-4-bc75143b6185>\u001B[0m in \u001B[0;36mrun_experiment\u001B[0;34m(config)\u001B[0m\n\u001B[1;32m     14\u001B[0m                          \u001B[0mlr\u001B[0m\u001B[0;34m=\u001B[0m\u001B[0mconfig\u001B[0m\u001B[0;34m[\u001B[0m\u001B[0;34m'lr'\u001B[0m\u001B[0;34m]\u001B[0m\u001B[0;34m,\u001B[0m \u001B[0mlr_scheduler\u001B[0m\u001B[0;34m=\u001B[0m\u001B[0mconfig\u001B[0m\u001B[0;34m[\u001B[0m\u001B[0;34m'lr_scheduler'\u001B[0m\u001B[0;34m]\u001B[0m\u001B[0;34m,\u001B[0m\u001B[0;34m\u001B[0m\u001B[0;34m\u001B[0m\u001B[0m\n\u001B[1;32m     15\u001B[0m                          warmup_percent=config['warmup_percent'])\n\u001B[0;32m---> 16\u001B[0;31m     \u001B[0mresult\u001B[0m \u001B[0;34m=\u001B[0m \u001B[0mtrainer\u001B[0m\u001B[0;34m.\u001B[0m\u001B[0mtrain\u001B[0m\u001B[0;34m(\u001B[0m\u001B[0mdisable_progress_bar\u001B[0m\u001B[0;34m=\u001B[0m\u001B[0;32mFalse\u001B[0m\u001B[0;34m)\u001B[0m\u001B[0;34m\u001B[0m\u001B[0;34m\u001B[0m\u001B[0m\n\u001B[0m\u001B[1;32m     17\u001B[0m     \u001B[0msave_name\u001B[0m \u001B[0;34m=\u001B[0m \u001B[0mencoder\u001B[0m \u001B[0;34m+\u001B[0m \u001B[0;34m'_'\u001B[0m \u001B[0;34m+\u001B[0m \u001B[0mmode\u001B[0m\u001B[0;34m\u001B[0m\u001B[0;34m\u001B[0m\u001B[0m\n\u001B[1;32m     18\u001B[0m     \u001B[0;32mreturn\u001B[0m \u001B[0mresult\u001B[0m\u001B[0;34m,\u001B[0m \u001B[0mmodel\u001B[0m\u001B[0;34m,\u001B[0m \u001B[0msave_name\u001B[0m\u001B[0;34m\u001B[0m\u001B[0;34m\u001B[0m\u001B[0m\n",
      "\u001B[0;32m~/src/sts_bert/sBERT/Trainer.py\u001B[0m in \u001B[0;36mtrain\u001B[0;34m(self, disable_progress_bar, eval_zero_shot)\u001B[0m\n\u001B[1;32m     80\u001B[0m                         \u001B[0mbatch_gold\u001B[0m \u001B[0;34m=\u001B[0m \u001B[0mtorch\u001B[0m\u001B[0;34m.\u001B[0m\u001B[0mFloatTensor\u001B[0m\u001B[0;34m(\u001B[0m\u001B[0mbatch_gold\u001B[0m\u001B[0;34m)\u001B[0m\u001B[0;34m\u001B[0m\u001B[0;34m\u001B[0m\u001B[0m\n\u001B[1;32m     81\u001B[0m                     \u001B[0mloss\u001B[0m \u001B[0;34m=\u001B[0m \u001B[0mself\u001B[0m\u001B[0;34m.\u001B[0m\u001B[0mloss_function\u001B[0m\u001B[0;34m(\u001B[0m\u001B[0mbatch_pred\u001B[0m\u001B[0;34m,\u001B[0m \u001B[0mbatch_gold\u001B[0m\u001B[0;34m.\u001B[0m\u001B[0mto\u001B[0m\u001B[0;34m(\u001B[0m\u001B[0mself\u001B[0m\u001B[0;34m.\u001B[0m\u001B[0mmodel\u001B[0m\u001B[0;34m.\u001B[0m\u001B[0mdevice\u001B[0m\u001B[0;34m)\u001B[0m\u001B[0;34m)\u001B[0m\u001B[0;34m\u001B[0m\u001B[0;34m\u001B[0m\u001B[0m\n\u001B[0;32m---> 82\u001B[0;31m                     \u001B[0mloss\u001B[0m\u001B[0;34m.\u001B[0m\u001B[0mbackward\u001B[0m\u001B[0;34m(\u001B[0m\u001B[0;34m)\u001B[0m\u001B[0;34m\u001B[0m\u001B[0;34m\u001B[0m\u001B[0m\n\u001B[0m\u001B[1;32m     83\u001B[0m                     \u001B[0mself\u001B[0m\u001B[0;34m.\u001B[0m\u001B[0moptimizer\u001B[0m\u001B[0;34m.\u001B[0m\u001B[0mstep\u001B[0m\u001B[0;34m(\u001B[0m\u001B[0;34m)\u001B[0m\u001B[0;34m\u001B[0m\u001B[0;34m\u001B[0m\u001B[0m\n\u001B[1;32m     84\u001B[0m                     \u001B[0;32mif\u001B[0m \u001B[0mself\u001B[0m\u001B[0;34m.\u001B[0m\u001B[0mlr_scheduler\u001B[0m \u001B[0;32mis\u001B[0m \u001B[0;32mnot\u001B[0m \u001B[0;32mNone\u001B[0m\u001B[0;34m:\u001B[0m\u001B[0;34m\u001B[0m\u001B[0;34m\u001B[0m\u001B[0m\n",
      "\u001B[0;32m~/.conda/envs/pytorch_env/lib/python3.8/site-packages/torch/tensor.py\u001B[0m in \u001B[0;36mbackward\u001B[0;34m(self, gradient, retain_graph, create_graph, inputs)\u001B[0m\n\u001B[1;32m    243\u001B[0m                 \u001B[0mcreate_graph\u001B[0m\u001B[0;34m=\u001B[0m\u001B[0mcreate_graph\u001B[0m\u001B[0;34m,\u001B[0m\u001B[0;34m\u001B[0m\u001B[0;34m\u001B[0m\u001B[0m\n\u001B[1;32m    244\u001B[0m                 inputs=inputs)\n\u001B[0;32m--> 245\u001B[0;31m         \u001B[0mtorch\u001B[0m\u001B[0;34m.\u001B[0m\u001B[0mautograd\u001B[0m\u001B[0;34m.\u001B[0m\u001B[0mbackward\u001B[0m\u001B[0;34m(\u001B[0m\u001B[0mself\u001B[0m\u001B[0;34m,\u001B[0m \u001B[0mgradient\u001B[0m\u001B[0;34m,\u001B[0m \u001B[0mretain_graph\u001B[0m\u001B[0;34m,\u001B[0m \u001B[0mcreate_graph\u001B[0m\u001B[0;34m,\u001B[0m \u001B[0minputs\u001B[0m\u001B[0;34m=\u001B[0m\u001B[0minputs\u001B[0m\u001B[0;34m)\u001B[0m\u001B[0;34m\u001B[0m\u001B[0;34m\u001B[0m\u001B[0m\n\u001B[0m\u001B[1;32m    246\u001B[0m \u001B[0;34m\u001B[0m\u001B[0m\n\u001B[1;32m    247\u001B[0m     \u001B[0;32mdef\u001B[0m \u001B[0mregister_hook\u001B[0m\u001B[0;34m(\u001B[0m\u001B[0mself\u001B[0m\u001B[0;34m,\u001B[0m \u001B[0mhook\u001B[0m\u001B[0;34m)\u001B[0m\u001B[0;34m:\u001B[0m\u001B[0;34m\u001B[0m\u001B[0;34m\u001B[0m\u001B[0m\n",
      "\u001B[0;32m~/.conda/envs/pytorch_env/lib/python3.8/site-packages/torch/autograd/__init__.py\u001B[0m in \u001B[0;36mbackward\u001B[0;34m(tensors, grad_tensors, retain_graph, create_graph, grad_variables, inputs)\u001B[0m\n\u001B[1;32m    143\u001B[0m         \u001B[0mretain_graph\u001B[0m \u001B[0;34m=\u001B[0m \u001B[0mcreate_graph\u001B[0m\u001B[0;34m\u001B[0m\u001B[0;34m\u001B[0m\u001B[0m\n\u001B[1;32m    144\u001B[0m \u001B[0;34m\u001B[0m\u001B[0m\n\u001B[0;32m--> 145\u001B[0;31m     Variable._execution_engine.run_backward(\n\u001B[0m\u001B[1;32m    146\u001B[0m         \u001B[0mtensors\u001B[0m\u001B[0;34m,\u001B[0m \u001B[0mgrad_tensors_\u001B[0m\u001B[0;34m,\u001B[0m \u001B[0mretain_graph\u001B[0m\u001B[0;34m,\u001B[0m \u001B[0mcreate_graph\u001B[0m\u001B[0;34m,\u001B[0m \u001B[0minputs\u001B[0m\u001B[0;34m,\u001B[0m\u001B[0;34m\u001B[0m\u001B[0;34m\u001B[0m\u001B[0m\n\u001B[1;32m    147\u001B[0m         allow_unreachable=True, accumulate_grad=True)  # allow_unreachable flag\n",
      "\u001B[0;31mKeyboardInterrupt\u001B[0m: "
     ]
    }
   ],
   "source": [
    "def run_experiment(config):\n",
    "    subset_indices = random_sample(n=len(dataset['train']), k=config['train_size'],\n",
    "                                   seed=config['train_subset_seed'])\n",
    "    train_dataset_subset = torch.utils.data.Subset(dataset['train'], subset_indices)\n",
    "\n",
    "    encoder, mode = config['mode'].split('/')\n",
    "    if encoder == 'bi-encoder':\n",
    "        model = BiEncoder(mode=mode, head='cos-sim')\n",
    "    else:\n",
    "        model = CrossEncoder(mode=mode)\n",
    "\n",
    "    trainer = STSTrainer(model=model, train_dataset=train_dataset_subset, dataset=dataset,\n",
    "                         num_epochs=config['num_epochs'], batch_size=config['batch_size'],\n",
    "                         lr=config['lr'], lr_scheduler=config['lr_scheduler'],\n",
    "                         warmup_percent=config['warmup_percent'])\n",
    "    result = trainer.train(disable_progress_bar=False)\n",
    "    save_name = encoder + '_' + mode\n",
    "    return result, model, save_name\n",
    "\n",
    "\n",
    "grid = {\n",
    "    'num_epochs': 10,\n",
    "    'batch_size': 16,\n",
    "    'lr': 2e-5,\n",
    "    'lr_scheduler': 'linear',\n",
    "    'warmup_percent': 0.2,\n",
    "    'mode': [\n",
    "             'bi-encoder/nli-cls-pooling',\n",
    "             'bi-encoder/nli-mean-pooling',\n",
    "             'bi-encoder/nli-linear-pooling'],\n",
    "    #'train_size': [500, 1000, 2000, 3000, 4000, len(dataset['train'])],\n",
    "    'train_size': [len(dataset['train'])],\n",
    "    'train_subset_seed': [1, 2, 3]\n",
    "}\n",
    "\n",
    "grid_run = GridRun(run_experiment, results_dir='results', experiment_name='pretraining_sts')\n",
    "#grid_run = GridRun(run_experiment)\n",
    "grid_run.run(grid, save_best=True, ignore_previous_results=True)\n",
    "# grid_run.df_results"
   ],
   "metadata": {
    "collapsed": false,
    "pycharm": {
     "name": "#%%\n"
    }
   }
  },
  {
   "cell_type": "code",
   "execution_count": 4,
   "outputs": [
    {
     "name": "stderr",
     "output_type": "stream",
     "text": [
      "Some weights of the model checkpoint at bert-base-uncased were not used when initializing BertModel: ['cls.seq_relationship.weight', 'cls.predictions.bias', 'cls.predictions.transform.LayerNorm.bias', 'cls.predictions.transform.dense.bias', 'cls.seq_relationship.bias', 'cls.predictions.transform.LayerNorm.weight', 'cls.predictions.transform.dense.weight', 'cls.predictions.decoder.weight']\n",
      "- This IS expected if you are initializing BertModel from the checkpoint of a model trained on another task or with another architecture (e.g. initializing a BertForSequenceClassification model from a BertForPreTraining model).\n",
      "- This IS NOT expected if you are initializing BertModel from the checkpoint of a model that you expect to be exactly identical (initializing a BertForSequenceClassification model from a BertForSequenceClassification model).\n"
     ]
    },
    {
     "name": "stdout",
     "output_type": "stream",
     "text": [
      "Scheduler type: linear, epochs: 10, steps per epoch: 360, total steps: 3600, warmup steps: 720\n"
     ]
    },
    {
     "data": {
      "text/plain": "<All keys matched successfully>"
     },
     "execution_count": 4,
     "metadata": {},
     "output_type": "execute_result"
    }
   ],
   "source": [
    "sts_model = CrossEncoder(mode='cls-pooling-hidden', toy_model=False)\n",
    "sts_trainer = STSTrainer(model=sts_model, train_dataset=dataset['train'],\n",
    "                         dataset=dataset, num_epochs=10, lr_scheduler='linear',\n",
    "                         warmup_percent=0.2)\n",
    "#sts_trainer.train(disable_progress_bar=True)\n",
    "original_sts_model_path = './saved_models/few_shot_paws/original_cross_encoder.bin'\n",
    "# torch.save(sts_model.state_dict(), original_sts_model_path)\n",
    "sts_model.load_state_dict(torch.load(original_sts_model_path))"
   ],
   "metadata": {
    "collapsed": false,
    "pycharm": {
     "name": "#%%\n"
    }
   }
  },
  {
   "cell_type": "code",
   "execution_count": 6,
   "outputs": [
    {
     "name": "stderr",
     "output_type": "stream",
     "text": [
      "100%|██████████| 87/87 [00:03<00:00, 27.72it/s]\n"
     ]
    },
    {
     "data": {
      "text/plain": "(0.852038992078638, tensor(0.0240))"
     },
     "execution_count": 6,
     "metadata": {},
     "output_type": "execute_result"
    }
   ],
   "source": [
    "sts_trainer.score(sts_trainer.test_dl)"
   ],
   "metadata": {
    "collapsed": false,
    "pycharm": {
     "name": "#%%\n"
    }
   }
  },
  {
   "cell_type": "code",
   "execution_count": 32,
   "outputs": [],
   "source": [],
   "metadata": {
    "collapsed": false,
    "pycharm": {
     "name": "#%%\n"
    }
   }
  },
  {
   "cell_type": "code",
   "execution_count": null,
   "outputs": [],
   "source": [
    "\n",
    "\n",
    "\n",
    "\n",
    "\n",
    "\n",
    "\n",
    "\n",
    "\n",
    "\n",
    "\n",
    "\n",
    "\n",
    "\n",
    "\n",
    "\n",
    "\n",
    "\n",
    "\n"
   ],
   "metadata": {
    "collapsed": false,
    "pycharm": {
     "name": "#%%\n"
    }
   }
  }
 ],
 "metadata": {
  "kernelspec": {
   "name": "pytorch_env",
   "language": "python",
   "display_name": "pytorch_env"
  },
  "language_info": {
   "codemirror_mode": {
    "name": "ipython",
    "version": 2
   },
   "file_extension": ".py",
   "mimetype": "text/x-python",
   "name": "python",
   "nbconvert_exporter": "python",
   "pygments_lexer": "ipython2",
   "version": "2.7.6"
  }
 },
 "nbformat": 4,
 "nbformat_minor": 1
}