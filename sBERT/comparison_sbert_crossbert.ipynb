{
 "cells": [
  {
   "cell_type": "code",
   "execution_count": 1,
   "metadata": {
    "collapsed": true,
    "pycharm": {
     "name": "#%%\n"
    }
   },
   "outputs": [],
   "source": [
    "# Only needed in pycharm\n",
    "import os\n",
    "os.chdir('/home/cs-folq1/src/sts_bert/sBERT')"
   ]
  },
  {
   "cell_type": "code",
   "execution_count": 2,
   "metadata": {
    "pycharm": {
     "name": "#%%\n"
    }
   },
   "outputs": [],
   "source": [
    "train_batch_size = 16"
   ]
  },
  {
   "cell_type": "code",
   "execution_count": 3,
   "metadata": {
    "pycharm": {
     "name": "#%%\n"
    }
   },
   "outputs": [
    {
     "name": "stderr",
     "output_type": "stream",
     "text": [
      "Reusing dataset stsb_multi_mt (/home/cs-folq1/.cache/huggingface/datasets/stsb_multi_mt/en/1.0.0/bc6de0eaa8d97c28a4c22a07e851b05879ae62c60b0b69dd6b331339e8020f07)\n"
     ]
    }
   ],
   "source": [
    "from datasets import load_dataset\n",
    "\n",
    "dataset = load_dataset(\"stsb_multi_mt\", name=\"en\")"
   ]
  },
  {
   "cell_type": "code",
   "execution_count": 4,
   "metadata": {
    "pycharm": {
     "name": "#%%\n"
    }
   },
   "outputs": [],
   "source": [
    "import torch\n",
    "from BiEncoder import run_experiment_biencoder\n",
    "from CrossEncoder import run_experiment_crossencoder\n",
    "\n",
    "num_rep = 3\n",
    "train_sizes = [500, 1000, 1500, 2000, 3000, 4000, len(dataset['train'])]\n",
    "results_biencoder = []\n",
    "results_crossencoder = []\n",
    "\n",
    "for train_size in train_sizes:\n",
    "    print('SIZE {}'.format(train_size))\n",
    "    results_biencoder.append([])\n",
    "    results_crossencoder.append([])\n",
    "\n",
    "    for j in range(num_rep):\n",
    "        print('Rep {}'.format(j + 1))\n",
    "\n",
    "        train_dataset_subset = torch.utils.data.Subset(dataset['train'], range(train_size))\n",
    "        biencoder_result = run_experiment_biencoder(train_dataset_subset, dataset['dev'],\n",
    "                                                    dataset['test'], batch_size=train_batch_size,\n",
    "                                                    num_epochs=6, lr=2e-5,\n",
    "                                                    disable_progress_bar=True)[1]\n",
    "        print('Test score: {:.4f}'.format(biencoder_result))\n",
    "        results_biencoder[-1].append(biencoder_result)\n",
    "        print(results_biencoder)\n",
    "        crossencoder_result = run_experiment_crossencoder(train_dataset_subset, dataset['dev'],\n",
    "                                                          dataset['test'],\n",
    "                                                          batch_size=train_batch_size,\n",
    "                                                          num_epochs=10, lr=1e-5,\n",
    "                                                          disable_progress_bar=True)[1]\n",
    "        print('Test score: {:.4f}'.format(crossencoder_result))\n",
    "        results_crossencoder[-1].append(crossencoder_result)\n",
    "        print(results_crossencoder)"
   ]
  },
  {
   "cell_type": "code",
   "execution_count": 13,
   "metadata": {
    "pycharm": {
     "name": "#%%\n"
    }
   },
   "outputs": [
    {
     "data": {
      "text/plain": [
       "<matplotlib.legend.Legend at 0x2b88b91d7040>"
      ]
     },
     "execution_count": 13,
     "metadata": {},
     "output_type": "execute_result"
    },
    {
     "data": {
      "image/png": "[encoded data removed]",
      "text/plain": [
       "<Figure size 432x288 with 1 Axes>"
      ]
     },
     "metadata": {
      "needs_background": "light"
     },
     "output_type": "display_data"
    }
   ],
   "source": [
    "import matplotlib.pyplot as plt\n",
    "import numpy as np\n",
    "\n",
    "results_biencoder = [[0.7359092174646036, 0.7304051596498577, 0.729091997847081],\n",
    "                     [0.7411596655888648, 0.7381974712542911, 0.738416444181848],\n",
    "                     [0.7487229941402674, 0.7545618995787241, 0.7514813270965981],\n",
    "                     [0.7568704139021903, 0.7541717311765502, 0.7582126082327617],\n",
    "                     [0.8084285410278953, 0.8109510196293054, 0.8138105151619708],\n",
    "                     [0.8347269830894014, 0.8360255965582643, 0.8364234938344148],\n",
    "                     [0.8476613224106673, 0.8498278421546475, 0.8459949391554407]]\n",
    "\n",
    "results_crossencoder = [[0.5906194602877921, 0.606579612519751, 0.6173842461729031],\n",
    "                        [0.6213615467075682, 0.6181754203512072, 0.6126734241866736],\n",
    "                        [0.6244608526572155, 0.6692660192643454, 0.7158840787042942],\n",
    "                        [0.7267139422975412, 0.7095565086873682, 0.7170063139532679],\n",
    "                        [0.7644212148015731, 0.7714862256842184, 0.7717758156421696],\n",
    "                        [0.8159434119962787, 0.8111925299780551, 0.8155430978034006],\n",
    "                        [0.8173710591748974, 0.818755455354884, 0.8172778545441922]]\n",
    "\n",
    "plt.plot(train_sizes, np.array(results_biencoder).mean(1), 'o-', label='Bi-encoder')\n",
    "plt.plot(train_sizes, np.array(results_crossencoder).mean(1), 'o-', label='Cross-encoder')\n",
    "plt.legend()"
   ]
  },
  {
   "cell_type": "code",
   "execution_count": null,
   "outputs": [],
   "source": [
    "from torch.utils.data import DataLoader\n",
    "from CrossEncoder import CrossEncoder, CrossEncoderTrainer\n",
    "\n",
    "train_dataset_subset = torch.utils.data.Subset(dataset['train'], range(1000))\n",
    "train_dataloader = DataLoader(train_dataset_subset, batch_size=train_batch_size, shuffle=True)\n",
    "\n",
    "model = CrossEncoder()\n",
    "trainer = CrossEncoderTrainer(model=model, train_dataset=train_dataset_subset, dataset=dataset)\n",
    "trainer.train(num_epochs=10, disable_progress_bar=False)"
   ],
   "metadata": {
    "collapsed": false,
    "pycharm": {
     "name": "#%%\n"
    }
   }
  }
 ],
 "metadata": {
  "kernelspec": {
   "display_name": "pytorch_env",
   "language": "python",
   "name": "pytorch_env"
  },
  "language_info": {
   "codemirror_mode": {
    "name": "ipython",
    "version": 2
   },
   "file_extension": ".py",
   "mimetype": "text/x-python",
   "name": "python",
   "nbconvert_exporter": "python",
   "pygments_lexer": "ipython2",
   "version": "2.7.6"
  }
 },
 "nbformat": 4,
 "nbformat_minor": 1
}