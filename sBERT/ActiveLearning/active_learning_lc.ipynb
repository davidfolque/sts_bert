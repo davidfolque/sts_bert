{
 "cells": [
  {
   "cell_type": "code",
   "execution_count": 4,
   "metadata": {
    "collapsed": true
   },
   "outputs": [],
   "source": [
    "from transformers import AutoModel, AutoTokenizer\n",
    "import numpy as np"
   ]
  },
  {
   "cell_type": "code",
   "execution_count": 7,
   "outputs": [],
   "source": [
    "model = AutoModel.from_pretrained('julien-c/bert-xsmall-dummy')\n",
    "tokenizer = AutoModel.from_pretrained('julien-c/bert-xsmall-dummy')"
   ],
   "metadata": {
    "collapsed": false,
    "pycharm": {
     "name": "#%%\n"
    }
   }
  },
  {
   "cell_type": "code",
   "execution_count": 11,
   "outputs": [
    {
     "data": {
      "text/plain": "array([ True,  True,  True,  True,  True,  True,  True,  True,  True,\n        True, False, False, False, False, False])"
     },
     "execution_count": 11,
     "metadata": {},
     "output_type": "execute_result"
    }
   ],
   "source": [
    "indices = np.random.default_rng().choice(10, 10, replace=False)\n",
    "selected = np.full((15,), False)\n",
    "selected[indices] = True\n",
    "selected\n"
   ],
   "metadata": {
    "collapsed": false,
    "pycharm": {
     "name": "#%%\n"
    }
   }
  },
  {
   "cell_type": "code",
   "execution_count": 20,
   "outputs": [
    {
     "data": {
      "text/plain": "True"
     },
     "execution_count": 20,
     "metadata": {},
     "output_type": "execute_result"
    }
   ],
   "source": [
    "model.train()\n",
    "model.training"
   ],
   "metadata": {
    "collapsed": false,
    "pycharm": {
     "name": "#%%\n"
    }
   }
  },
  {
   "cell_type": "code",
   "execution_count": 129,
   "outputs": [],
   "source": [
    "import numpy as np\n",
    "\n",
    "\n",
    "class ALDataLoaderIterator:\n",
    "    def __init__(self, dataset, selected, batch_size, shuffle):\n",
    "        self.dataset = dataset\n",
    "        self.batch_size = batch_size\n",
    "        self.indices = np.nonzero(selected)[0]\n",
    "        if shuffle:\n",
    "            self.indices = np.random.permutation(self.indices)\n",
    "        self.i = 0\n",
    "\n",
    "    def __next__(self):\n",
    "        if self.i >= len(self.indices):\n",
    "            raise StopIteration\n",
    "\n",
    "        first_idx = self.i\n",
    "        next_idx = min(self.i + self.batch_size, len(self.indices))\n",
    "        assert next_idx > first_idx\n",
    "        batch = [self.dataset[self.indices[j]] for j in range(first_idx, next_idx)]\n",
    "        self.i = next_idx\n",
    "        return batch\n",
    "\n",
    "\n",
    "class ALDataLoader:\n",
    "    def __init__(self, dataset, batch_size, shuffle_train, seed=0):\n",
    "        self.dataset = dataset\n",
    "        self.batch_size = batch_size\n",
    "        self.shuffle_train = shuffle_train\n",
    "        self.n = len(dataset)\n",
    "        self.selected = np.full((self.n,), False)\n",
    "        self.rng = np.random.default_rng(seed=seed)\n",
    "        self.training = True\n",
    "        self.selection_indices = None\n",
    "\n",
    "    def select_indices(self, indices):\n",
    "        assert not np.any(self.selected[indices])\n",
    "        self.selected[indices] = True\n",
    "\n",
    "    def select_k_at_random(self, k):\n",
    "        not_selected = np.nonzero(~self.selected)[0]\n",
    "        assert k <= len(not_selected)\n",
    "        indices = self.rng.choice(not_selected, k, replace=False)\n",
    "        self.select_indices(indices)\n",
    "\n",
    "    def train(self):\n",
    "        assert not self.training\n",
    "        self.training = True\n",
    "        self.selection_indices = None\n",
    "\n",
    "    def selection(self):\n",
    "        assert self.training\n",
    "        assert self.selection_indices is None\n",
    "        self.training = False\n",
    "\n",
    "    def __iter__(self):\n",
    "        if self.training:\n",
    "            return ALDataLoaderIterator(self.dataset, self.selected, self.batch_size,\n",
    "                                        self.shuffle_train)\n",
    "\n",
    "        iterator = ALDataLoaderIterator(self.dataset, ~self.selected, self.batch_size,\n",
    "                                        shuffle=False)\n",
    "        self.selection_indices = iterator.indices\n",
    "        return iterator"
   ],
   "metadata": {
    "collapsed": false,
    "pycharm": {
     "name": "#%%\n"
    }
   }
  },
  {
   "cell_type": "code",
   "execution_count": 153,
   "outputs": [
    {
     "name": "stdout",
     "output_type": "stream",
     "text": [
      "['e2', 'e0', 'e5', 'e3']\n",
      "['e1', 'e4', 'e6', 'e7']\n",
      "[1 4 6 7]\n"
     ]
    }
   ],
   "source": [
    "#from ALDataLoader import ALDataLoader\n",
    "\n",
    "aldl = ALDataLoader(['e0', 'e1', 'e2', 'e3', 'e4', 'e5', 'e6', 'e7'],\n",
    "                    batch_size=4, shuffle_train=True, seed=None)\n",
    "aldl.select_k_at_random(2)\n",
    "aldl.select_k_at_random(2)\n",
    "for batch in aldl:\n",
    "    print(batch)\n",
    "\n",
    "aldl.selection()\n",
    "for batch in aldl:\n",
    "    print(batch)\n",
    "print(aldl.selection_indices)"
   ],
   "metadata": {
    "collapsed": false,
    "pycharm": {
     "name": "#%%\n"
    }
   }
  },
  {
   "cell_type": "code",
   "execution_count": 88,
   "outputs": [
    {
     "data": {
      "text/plain": "array([False, False, False, False, False])"
     },
     "execution_count": 88,
     "metadata": {},
     "output_type": "execute_result"
    }
   ],
   "source": [
    "~np.full(5, True)"
   ],
   "metadata": {
    "collapsed": false,
    "pycharm": {
     "name": "#%%\n"
    }
   }
  },
  {
   "cell_type": "code",
   "execution_count": 2,
   "outputs": [],
   "source": [
    "import os\n",
    "os.chdir('/home/david/Documents/PhD/old_src/sts_bert/sBERT')"
   ],
   "metadata": {
    "collapsed": false,
    "pycharm": {
     "name": "#%%\n"
    }
   }
  },
  {
   "cell_type": "code",
   "execution_count": 3,
   "outputs": [
    {
     "name": "stdout",
     "output_type": "stream",
     "text": [
      "0.4814\n",
      "0.4854\n",
      "0.47\n"
     ]
    }
   ],
   "source": [
    "from Percolation import make_percolation_dataset, define_and_train, NN_one_hidden\n",
    "train_set = make_percolation_dataset(n_examples=10000)\n",
    "dev_set = make_percolation_dataset(n_examples=10000)\n",
    "test_set = make_percolation_dataset(n_examples=1000)\n",
    "#define_and_train(NN_one_hidden, {}, 10, train_set, test_set);"
   ],
   "metadata": {
    "collapsed": false,
    "pycharm": {
     "name": "#%%\n"
    }
   }
  },
  {
   "cell_type": "code",
   "execution_count": 4,
   "outputs": [],
   "source": [
    "import torch.nn as nn\n",
    "class NN_one_hidden(nn.Module):\n",
    "\n",
    "    def __init__(self):\n",
    "        super(NN_one_hidden, self).__init__()\n",
    "        self.layers = nn.Sequential(nn.Flatten(), nn.Linear(64, 100),  # try 100 hidden neurons\n",
    "            nn.ReLU(),\n",
    "            # note that we need the brackets after nn.ReLU() and nn.Sigmoid(), because these\n",
    "            # are classes that need to be instantiated\n",
    "            nn.Linear(100, 1),\n",
    "            nn.Sigmoid())  # we are predicting only two classes, so we can use one sigmoid neuron as output\n",
    "\n",
    "    def forward(self, x):  # computes the forward pass ... this one is particularly simple\n",
    "        x = self.layers(x)\n",
    "        return x\n",
    "\n",
    "    def __getattr__(self, item):\n",
    "        if item == 'device':\n",
    "            return 'cpu'\n",
    "        return super().__getattr__(item)"
   ],
   "metadata": {
    "collapsed": false,
    "pycharm": {
     "name": "#%%\n"
    }
   }
  },
  {
   "cell_type": "code",
   "execution_count": 5,
   "outputs": [],
   "source": [
    "import torch\n",
    "import numpy as np\n",
    "from tqdm import tqdm\n",
    "from transformers import get_scheduler\n",
    "\n",
    "\n",
    "def tolist(obj):\n",
    "    if type(obj) == list:\n",
    "        return obj\n",
    "    return obj.tolist()\n",
    "\n",
    "\n",
    "class Trainer:\n",
    "    def __init__(self, model, train_dl, dev_dl, test_dl, num_epochs, optimizer,\n",
    "                 lr_scheduler='constant', warmup_percent=0.0, loss_function=None):\n",
    "        self.model = model\n",
    "        self.train_dl = train_dl\n",
    "        self.dev_dl = dev_dl\n",
    "        self.test_dl = test_dl\n",
    "        self.num_epochs = num_epochs\n",
    "        self.optimizer = optimizer\n",
    "\n",
    "        # LR scheduler.\n",
    "        steps_per_epoch = len(train_dl)\n",
    "        total_training_steps = num_epochs * steps_per_epoch\n",
    "        if lr_scheduler == 'constant':\n",
    "            lr_scheduler = 'constant_with_warmup'\n",
    "        warmup_steps = int(total_training_steps * warmup_percent)\n",
    "        print('Scheduler type: {}, epochs: {}, steps per epoch: {}, total steps: {}, '\n",
    "              'warmup steps: {}'.format(lr_scheduler, num_epochs, steps_per_epoch,\n",
    "                                        total_training_steps, warmup_steps))\n",
    "        self.lr_scheduler = get_scheduler(lr_scheduler, optimizer, num_warmup_steps=warmup_steps,\n",
    "                                          num_training_steps=total_training_steps)\n",
    "\n",
    "        self.loss_function = loss_function\n",
    "\n",
    "        # For early stopping.\n",
    "        self.best_dev_performance = -np.inf\n",
    "        self.best_model_epoch = 0\n",
    "        self.best_model = None\n",
    "\n",
    "        # Store training progress.\n",
    "        self.training_progress = {'train_loss': [], 'train_performance': [], 'dev_loss': [],\n",
    "                                 'dev_performance': []}\n",
    "\n",
    "        # Debug functions to execute after each step/epoch.\n",
    "        self.debug_step_function = None\n",
    "        self.debug_epoch_function = None\n",
    "\n",
    "    # Override\n",
    "    def predict_batch(self, batch):\n",
    "        raise NotImplementedError('Method predict_batch should be overridden.')\n",
    "\n",
    "    def predict(self, dl, disable_progress_bar=False):\n",
    "        pred = []\n",
    "        gold = []\n",
    "        for batch in tqdm(dl, disable=disable_progress_bar):\n",
    "            batch_pred, batch_gold = self.predict_batch(batch)\n",
    "            pred += tolist(batch_pred)\n",
    "            gold += tolist(batch_gold)\n",
    "        return pred, gold\n",
    "\n",
    "    # Override\n",
    "    @staticmethod\n",
    "    def performance(pred, gold):\n",
    "        raise NotImplementedError('Method performance should be overridden.')\n",
    "\n",
    "    def score(self, dl, disable_progress_bar=False):\n",
    "        pred, gold = self.predict(dl, disable_progress_bar=disable_progress_bar)\n",
    "        loss = self.loss_function(torch.Tensor(pred).to(self.model.device),\n",
    "                                  torch.Tensor(gold).to(self.model.device))\n",
    "        performance = self.performance(np.array(pred), np.array(gold))\n",
    "        return performance, loss\n",
    "\n",
    "    def train(self, disable_progress_bar, eval_zero_shot=False, early_stopping=True, verbose=True):\n",
    "        for epoch in range(-1, self.num_epochs):\n",
    "\n",
    "            # Train epoch.\n",
    "            if epoch >= 0:\n",
    "                # Model in mode train.\n",
    "                self.model.train()\n",
    "\n",
    "                # Prepare variables for evaluating model during training.\n",
    "                train_loss = 0\n",
    "                train_pred = []\n",
    "                train_gold = []\n",
    "\n",
    "                for batch in tqdm(self.train_dl, disable=disable_progress_bar):\n",
    "                    # Zero gradients.\n",
    "                    self.optimizer.zero_grad()\n",
    "\n",
    "                    # Forward pass.\n",
    "                    batch_pred, batch_gold = self.predict_batch(batch)\n",
    "\n",
    "                    # Remember predictions for evaluation.\n",
    "                    train_pred += tolist(batch_pred)\n",
    "                    train_gold += tolist(batch_gold)\n",
    "\n",
    "                    # Compute the loss. Turn gold values into tensors before.\n",
    "                    if type(batch_gold) == list:\n",
    "                        batch_gold = torch.FloatTensor(batch_gold).to(self.model.device)\n",
    "                    loss = self.loss_function(batch_pred, batch_gold)\n",
    "\n",
    "                    # Store loss for evaluation. Storing sum instead of mean.\n",
    "                    train_loss += loss.item() * batch_gold.shape[0]\n",
    "\n",
    "                    if self.debug_step_function is not None:\n",
    "                        self.debug_step_function(middle=True)\n",
    "\n",
    "                    # Backward pass.\n",
    "                    loss.backward()\n",
    "\n",
    "                    # Step optimizer, lr_scheduler and debug_function.\n",
    "                    self.optimizer.step()\n",
    "                    if self.lr_scheduler is not None:\n",
    "                        self.lr_scheduler.step()\n",
    "                    if self.debug_step_function is not None:\n",
    "                        self.debug_step_function(middle=False)\n",
    "\n",
    "                # Print evaluation.\n",
    "                train_performance = self.performance(np.array(train_pred), np.array(train_gold))\n",
    "                if verbose:\n",
    "                    print('Train epoch {:<4d}: loss: {:<8.4f}, score: {:<8.4f}'.format(\n",
    "                        epoch + 1, train_loss / len(batch_pred), train_performance))\n",
    "                self.training_progress['train_loss'].append(train_loss)\n",
    "                self.training_progress['train_performance'].append(train_performance)\n",
    "\n",
    "                if self.debug_epoch_function is not None:\n",
    "                    self.debug_epoch_function()\n",
    "\n",
    "            if epoch >= 0 or eval_zero_shot:\n",
    "                self.model.eval()\n",
    "                dev_performance, dev_loss = self.score(self.dev_dl,\n",
    "                                                       disable_progress_bar=disable_progress_bar)\n",
    "                ast = ''\n",
    "                if dev_performance > self.best_dev_performance:\n",
    "                    self.best_model = self.model.state_dict()\n",
    "                    self.best_dev_performance = dev_performance\n",
    "                    self.best_model_epoch = epoch\n",
    "                    ast = '*'\n",
    "                if verbose:\n",
    "                    print('Dev epoch {:<4d}: loss: {:<8.4f}, score: {:<8.4f}'.format(\n",
    "                        epoch + 1, dev_loss, dev_performance) + ast)\n",
    "                self.training_progress['dev_loss'].append(dev_loss)\n",
    "                self.training_progress['dev_performance'].append(dev_performance)\n",
    "\n",
    "                if early_stopping and epoch + 1 >= (self.num_epochs + 1) // 2 and \\\n",
    "                        self.best_model_epoch <= epoch - 2:\n",
    "                    if verbose:\n",
    "                        print('Early stopping')\n",
    "                    break\n",
    "\n",
    "        self.model.load_state_dict(self.best_model)"
   ],
   "metadata": {
    "collapsed": false,
    "pycharm": {
     "name": "#%%\n"
    }
   }
  },
  {
   "cell_type": "code",
   "execution_count": 6,
   "outputs": [],
   "source": [
    "\n",
    "import numpy as np\n",
    "import torch\n",
    "\n",
    "\n",
    "class ALDataLoaderIterator:\n",
    "    def __init__(self, dataset, selected, batch_size, shuffle):\n",
    "        self.dataset = dataset\n",
    "        self.batch_size = batch_size\n",
    "        self.indices = np.nonzero(selected)[0]\n",
    "        if shuffle:\n",
    "            self.indices = np.random.permutation(self.indices)\n",
    "        self.i = 0\n",
    "\n",
    "    def __next__(self):\n",
    "        if self.i >= len(self.indices):\n",
    "            raise StopIteration\n",
    "\n",
    "        first_idx = self.i\n",
    "        next_idx = min(self.i + self.batch_size, len(self.indices))\n",
    "        assert next_idx > first_idx\n",
    "        batch = {key: [self.dataset[self.indices[j]][key] for j in range(first_idx, next_idx)] for\n",
    "                 key in self.dataset[0].keys()}\n",
    "        for key in self.dataset[0].keys():\n",
    "            if type(batch[key][0]) == torch.Tensor:\n",
    "                batch[key] = torch.cat(batch[key])\n",
    "        self.i = next_idx\n",
    "        return batch\n",
    "\n",
    "\n",
    "class ALDataLoader:\n",
    "    def __init__(self, dataset, batch_size, shuffle_train, seed=0):\n",
    "        self.dataset = dataset\n",
    "        self.batch_size = batch_size\n",
    "        self.shuffle_train = shuffle_train\n",
    "        self.n = len(dataset)\n",
    "        self.selected = np.full((self.n,), False)\n",
    "        self.rng = np.random.default_rng(seed=seed)\n",
    "        self.training = True\n",
    "        self.selection_indices = None\n",
    "\n",
    "    def select_indices(self, indices):\n",
    "        assert not np.any(self.selected[indices])\n",
    "        self.selected[indices] = True\n",
    "\n",
    "    def select_k_at_random(self, k):\n",
    "        not_selected = np.nonzero(~self.selected)[0]\n",
    "        assert k <= len(not_selected)\n",
    "        indices = self.rng.choice(not_selected, k, replace=False)\n",
    "        self.select_indices(indices)\n",
    "\n",
    "    def train(self):\n",
    "        self.training = True\n",
    "        self.selection_indices = None\n",
    "\n",
    "    def selection(self):\n",
    "        self.training = False\n",
    "\n",
    "    def __iter__(self):\n",
    "        if self.training:\n",
    "            return ALDataLoaderIterator(self.dataset, self.selected, self.batch_size,\n",
    "                                        self.shuffle_train)\n",
    "\n",
    "        iterator = ALDataLoaderIterator(self.dataset, ~self.selected, self.batch_size,\n",
    "                                        shuffle=False)\n",
    "        self.selection_indices = iterator.indices\n",
    "        return iterator\n",
    "\n",
    "    def __len__(self):\n",
    "        if 'warning_issued' not in dir(self):\n",
    "            print('Warning: called ALDataLoader::__len__ but it has variable length. Returning '\n",
    "                  'total possible length.')\n",
    "            self.warning_issued = True\n",
    "        return (len(self.dataset) - 1) // self.batch_size + 1"
   ],
   "metadata": {
    "collapsed": false,
    "pycharm": {
     "name": "#%%\n"
    }
   }
  },
  {
   "cell_type": "code",
   "execution_count": 46,
   "outputs": [
    {
     "name": "stdout",
     "output_type": "stream",
     "text": [
      "Warning: called ALDataLoader::__len__ but it has variable length. Returning total possible length.\n",
      "Scheduler type: constant_with_warmup, epochs: 10, steps per epoch: 313, total steps: 3130, warmup steps: 0\n"
     ]
    }
   ],
   "source": [
    "import torch\n",
    "#from ActiveLearning.ALDataLoader import ALDataLoader\n",
    "#from Trainer import Trainer\n",
    "\n",
    "class PercolationTrainer(Trainer):\n",
    "    def __init__(self, train_dl, dev_dl, test_dl, load_model=None, n_epochs=10):\n",
    "        model = NN_one_hidden()\n",
    "        if load_model is not None:\n",
    "            model.load_state_dict(load_model.state_dict())\n",
    "        optimizer = torch.optim.Adam(model.parameters(), lr=0.001)\n",
    "        super().__init__(model, train_dl=train_dl, dev_dl=dev_dl, test_dl=test_dl,\n",
    "                         num_epochs=n_epochs, optimizer=optimizer, loss_function=torch.nn.BCELoss())\n",
    "\n",
    "    def predict_batch(self, batch):\n",
    "        images = batch['image']\n",
    "        labels = batch['label']\n",
    "        if len(labels.shape) > 1:\n",
    "            labels = labels.squeeze(1)\n",
    "        outputs = self.model(images).squeeze(1)\n",
    "        return outputs, labels\n",
    "\n",
    "    @staticmethod\n",
    "    def performance(pred, gold):\n",
    "        return ((pred > 0.5) == (gold > 0.5)).mean()\n",
    "\n",
    "batch_size = 32\n",
    "train_dl = ALDataLoader(train_set, batch_size=batch_size, shuffle_train=True)\n",
    "train_dl.select_k_at_random(1000)\n",
    "dev_dl = torch.utils.data.DataLoader(dev_set, batch_size=batch_size, shuffle=False)\n",
    "test_dl = torch.utils.data.DataLoader(test_set, batch_size=batch_size, shuffle=False)\n",
    "trainer = PercolationTrainer(train_dl, dev_dl, test_dl)"
   ],
   "metadata": {
    "collapsed": false,
    "pycharm": {
     "name": "#%%\n"
    }
   }
  },
  {
   "cell_type": "code",
   "execution_count": 64,
   "outputs": [
    {
     "name": "stdout",
     "output_type": "stream",
     "text": [
      "Warning: called ALDataLoader::__len__ but it has variable length. Returning total possible length.\n",
      "Scheduler type: constant_with_warmup, epochs: 20, steps per epoch: 313, total steps: 6260, warmup steps: 0\n",
      "Dataloader size: 250, score: 0.5311\n",
      "Scheduler type: constant_with_warmup, epochs: 20, steps per epoch: 313, total steps: 6260, warmup steps: 0\n",
      "Dataloader size: 500, score: 0.5624\n",
      "Scheduler type: constant_with_warmup, epochs: 20, steps per epoch: 313, total steps: 6260, warmup steps: 0\n",
      "Dataloader size: 750, score: 0.5618\n",
      "Scheduler type: constant_with_warmup, epochs: 20, steps per epoch: 313, total steps: 6260, warmup steps: 0\n",
      "Dataloader size: 1000, score: 0.6048\n",
      "Scheduler type: constant_with_warmup, epochs: 20, steps per epoch: 313, total steps: 6260, warmup steps: 0\n",
      "Dataloader size: 1250, score: 0.618\n",
      "Scheduler type: constant_with_warmup, epochs: 20, steps per epoch: 313, total steps: 6260, warmup steps: 0\n",
      "Dataloader size: 1500, score: 0.649\n",
      "Scheduler type: constant_with_warmup, epochs: 20, steps per epoch: 313, total steps: 6260, warmup steps: 0\n",
      "Dataloader size: 1750, score: 0.6668\n",
      "Scheduler type: constant_with_warmup, epochs: 20, steps per epoch: 313, total steps: 6260, warmup steps: 0\n",
      "Dataloader size: 2000, score: 0.6712\n",
      "Scheduler type: constant_with_warmup, epochs: 20, steps per epoch: 313, total steps: 6260, warmup steps: 0\n",
      "Dataloader size: 2250, score: 0.6811\n",
      "Scheduler type: constant_with_warmup, epochs: 20, steps per epoch: 313, total steps: 6260, warmup steps: 0\n",
      "Dataloader size: 2500, score: 0.6861\n",
      "Scheduler type: constant_with_warmup, epochs: 20, steps per epoch: 313, total steps: 6260, warmup steps: 0\n",
      "Dataloader size: 2750, score: 0.6945\n",
      "Scheduler type: constant_with_warmup, epochs: 20, steps per epoch: 313, total steps: 6260, warmup steps: 0\n",
      "Dataloader size: 3000, score: 0.6917\n",
      "Scheduler type: constant_with_warmup, epochs: 20, steps per epoch: 313, total steps: 6260, warmup steps: 0\n",
      "Dataloader size: 3250, score: 0.6919\n",
      "Scheduler type: constant_with_warmup, epochs: 20, steps per epoch: 313, total steps: 6260, warmup steps: 0\n",
      "Dataloader size: 3500, score: 0.6939\n",
      "Scheduler type: constant_with_warmup, epochs: 20, steps per epoch: 313, total steps: 6260, warmup steps: 0\n",
      "Dataloader size: 3750, score: 0.7027\n",
      "Scheduler type: constant_with_warmup, epochs: 20, steps per epoch: 313, total steps: 6260, warmup steps: 0\n",
      "Dataloader size: 4000, score: 0.702\n",
      "Scheduler type: constant_with_warmup, epochs: 20, steps per epoch: 313, total steps: 6260, warmup steps: 0\n",
      "Dataloader size: 4250, score: 0.7007\n",
      "Scheduler type: constant_with_warmup, epochs: 20, steps per epoch: 313, total steps: 6260, warmup steps: 0\n",
      "Dataloader size: 4500, score: 0.7066\n",
      "Scheduler type: constant_with_warmup, epochs: 20, steps per epoch: 313, total steps: 6260, warmup steps: 0\n",
      "Dataloader size: 4750, score: 0.7143\n",
      "Scheduler type: constant_with_warmup, epochs: 20, steps per epoch: 313, total steps: 6260, warmup steps: 0\n",
      "Dataloader size: 5000, score: 0.7088\n",
      "Warning: called ALDataLoader::__len__ but it has variable length. Returning total possible length.\n",
      "Scheduler type: constant_with_warmup, epochs: 20, steps per epoch: 313, total steps: 6260, warmup steps: 0\n",
      "Dataloader size: 250, score: 0.5296\n",
      "Scheduler type: constant_with_warmup, epochs: 20, steps per epoch: 313, total steps: 6260, warmup steps: 0\n",
      "Dataloader size: 500, score: 0.5562\n",
      "Scheduler type: constant_with_warmup, epochs: 20, steps per epoch: 313, total steps: 6260, warmup steps: 0\n",
      "Dataloader size: 750, score: 0.5732\n",
      "Scheduler type: constant_with_warmup, epochs: 20, steps per epoch: 313, total steps: 6260, warmup steps: 0\n",
      "Dataloader size: 1000, score: 0.5982\n",
      "Scheduler type: constant_with_warmup, epochs: 20, steps per epoch: 313, total steps: 6260, warmup steps: 0\n",
      "Dataloader size: 1250, score: 0.6234\n",
      "Scheduler type: constant_with_warmup, epochs: 20, steps per epoch: 313, total steps: 6260, warmup steps: 0\n",
      "Dataloader size: 1500, score: 0.6444\n",
      "Scheduler type: constant_with_warmup, epochs: 20, steps per epoch: 313, total steps: 6260, warmup steps: 0\n",
      "Dataloader size: 1750, score: 0.6548\n",
      "Scheduler type: constant_with_warmup, epochs: 20, steps per epoch: 313, total steps: 6260, warmup steps: 0\n",
      "Dataloader size: 2000, score: 0.6689\n",
      "Scheduler type: constant_with_warmup, epochs: 20, steps per epoch: 313, total steps: 6260, warmup steps: 0\n",
      "Dataloader size: 2250, score: 0.6701\n",
      "Scheduler type: constant_with_warmup, epochs: 20, steps per epoch: 313, total steps: 6260, warmup steps: 0\n",
      "Dataloader size: 2500, score: 0.6716\n",
      "Scheduler type: constant_with_warmup, epochs: 20, steps per epoch: 313, total steps: 6260, warmup steps: 0\n",
      "Dataloader size: 2750, score: 0.6812\n",
      "Scheduler type: constant_with_warmup, epochs: 20, steps per epoch: 313, total steps: 6260, warmup steps: 0\n",
      "Dataloader size: 3000, score: 0.6877\n",
      "Scheduler type: constant_with_warmup, epochs: 20, steps per epoch: 313, total steps: 6260, warmup steps: 0\n",
      "Dataloader size: 3250, score: 0.6919\n",
      "Scheduler type: constant_with_warmup, epochs: 20, steps per epoch: 313, total steps: 6260, warmup steps: 0\n",
      "Dataloader size: 3500, score: 0.6955\n",
      "Scheduler type: constant_with_warmup, epochs: 20, steps per epoch: 313, total steps: 6260, warmup steps: 0\n",
      "Dataloader size: 3750, score: 0.6976\n",
      "Scheduler type: constant_with_warmup, epochs: 20, steps per epoch: 313, total steps: 6260, warmup steps: 0\n",
      "Dataloader size: 4000, score: 0.7055\n",
      "Scheduler type: constant_with_warmup, epochs: 20, steps per epoch: 313, total steps: 6260, warmup steps: 0\n",
      "Dataloader size: 4250, score: 0.7045\n",
      "Scheduler type: constant_with_warmup, epochs: 20, steps per epoch: 313, total steps: 6260, warmup steps: 0\n",
      "Dataloader size: 4500, score: 0.708\n",
      "Scheduler type: constant_with_warmup, epochs: 20, steps per epoch: 313, total steps: 6260, warmup steps: 0\n",
      "Dataloader size: 4750, score: 0.7116\n",
      "Scheduler type: constant_with_warmup, epochs: 20, steps per epoch: 313, total steps: 6260, warmup steps: 0\n",
      "Dataloader size: 5000, score: 0.7146\n",
      "Warning: called ALDataLoader::__len__ but it has variable length. Returning total possible length.\n",
      "Scheduler type: constant_with_warmup, epochs: 20, steps per epoch: 313, total steps: 6260, warmup steps: 0\n",
      "Dataloader size: 250, score: 0.5301\n",
      "Scheduler type: constant_with_warmup, epochs: 20, steps per epoch: 313, total steps: 6260, warmup steps: 0\n",
      "Dataloader size: 500, score: 0.5538\n",
      "Scheduler type: constant_with_warmup, epochs: 20, steps per epoch: 313, total steps: 6260, warmup steps: 0\n",
      "Dataloader size: 750, score: 0.6005\n",
      "Scheduler type: constant_with_warmup, epochs: 20, steps per epoch: 313, total steps: 6260, warmup steps: 0\n",
      "Dataloader size: 1000, score: 0.6181\n",
      "Scheduler type: constant_with_warmup, epochs: 20, steps per epoch: 313, total steps: 6260, warmup steps: 0\n",
      "Dataloader size: 1250, score: 0.6359\n",
      "Scheduler type: constant_with_warmup, epochs: 20, steps per epoch: 313, total steps: 6260, warmup steps: 0\n",
      "Dataloader size: 1500, score: 0.6512\n",
      "Scheduler type: constant_with_warmup, epochs: 20, steps per epoch: 313, total steps: 6260, warmup steps: 0\n",
      "Dataloader size: 1750, score: 0.6568\n",
      "Scheduler type: constant_with_warmup, epochs: 20, steps per epoch: 313, total steps: 6260, warmup steps: 0\n",
      "Dataloader size: 2000, score: 0.6768\n",
      "Scheduler type: constant_with_warmup, epochs: 20, steps per epoch: 313, total steps: 6260, warmup steps: 0\n",
      "Dataloader size: 2250, score: 0.6745\n",
      "Scheduler type: constant_with_warmup, epochs: 20, steps per epoch: 313, total steps: 6260, warmup steps: 0\n",
      "Dataloader size: 2500, score: 0.6868\n",
      "Scheduler type: constant_with_warmup, epochs: 20, steps per epoch: 313, total steps: 6260, warmup steps: 0\n",
      "Dataloader size: 2750, score: 0.6904\n",
      "Scheduler type: constant_with_warmup, epochs: 20, steps per epoch: 313, total steps: 6260, warmup steps: 0\n",
      "Dataloader size: 3000, score: 0.6943\n",
      "Scheduler type: constant_with_warmup, epochs: 20, steps per epoch: 313, total steps: 6260, warmup steps: 0\n",
      "Dataloader size: 3250, score: 0.6974\n",
      "Scheduler type: constant_with_warmup, epochs: 20, steps per epoch: 313, total steps: 6260, warmup steps: 0\n",
      "Dataloader size: 3500, score: 0.6994\n",
      "Scheduler type: constant_with_warmup, epochs: 20, steps per epoch: 313, total steps: 6260, warmup steps: 0\n",
      "Dataloader size: 3750, score: 0.7049\n",
      "Scheduler type: constant_with_warmup, epochs: 20, steps per epoch: 313, total steps: 6260, warmup steps: 0\n",
      "Dataloader size: 4000, score: 0.701\n",
      "Scheduler type: constant_with_warmup, epochs: 20, steps per epoch: 313, total steps: 6260, warmup steps: 0\n",
      "Dataloader size: 4250, score: 0.7033\n",
      "Scheduler type: constant_with_warmup, epochs: 20, steps per epoch: 313, total steps: 6260, warmup steps: 0\n",
      "Dataloader size: 4500, score: 0.7144\n",
      "Scheduler type: constant_with_warmup, epochs: 20, steps per epoch: 313, total steps: 6260, warmup steps: 0\n",
      "Dataloader size: 4750, score: 0.7198\n",
      "Scheduler type: constant_with_warmup, epochs: 20, steps per epoch: 313, total steps: 6260, warmup steps: 0\n",
      "Dataloader size: 5000, score: 0.717\n"
     ]
    }
   ],
   "source": [
    "k = 250\n",
    "times = 20\n",
    "\n",
    "batch_size = 32\n",
    "original_model = NN_one_hidden()\n",
    "original_model = None\n",
    "dev_dl = torch.utils.data.DataLoader(dev_set, batch_size=batch_size, shuffle=False)\n",
    "test_dl = torch.utils.data.DataLoader(test_set, batch_size=batch_size, shuffle=False)\n",
    "\n",
    "def run_experiment(mode='lc'):\n",
    "    train_dl = ALDataLoader(train_set, batch_size=batch_size, shuffle_train=True)\n",
    "    train_dl.select_k_at_random(k)\n",
    "\n",
    "    training_progresses = []\n",
    "    dev_performances = []\n",
    "\n",
    "    for i in range(times):\n",
    "        trainer = PercolationTrainer(train_dl, dev_dl, None, load_model=original_model, n_epochs=20)\n",
    "        train_dl.train()\n",
    "        trainer.train(disable_progress_bar=True, verbose=False, eval_zero_shot=True,\n",
    "                      early_stopping=False)\n",
    "        training_progresses.append(trainer.training_progress)\n",
    "        dev_performances.append(trainer.best_dev_performance)\n",
    "        print('Dataloader size: {}, score: {}'.format(np.sum(train_dl.selected),\n",
    "                                                      trainer.best_dev_performance))\n",
    "\n",
    "        if mode == 'rnd':\n",
    "            train_dl.select_k_at_random(k)\n",
    "        else:\n",
    "            train_dl.selection()\n",
    "            probs, _ = trainer.predict(train_dl, disable_progress_bar=True)\n",
    "            probs = np.expand_dims(np.array(probs), 1)\n",
    "            confidences = np.concatenate((probs, 1 - probs), axis=1).max(axis=1)\n",
    "            if mode == 'mc':\n",
    "                confidences = -confidences\n",
    "            else:\n",
    "                assert mode == 'lc'\n",
    "            lc_indices = np.argpartition(confidences, range(k))[:k]\n",
    "            train_dl.select_indices(train_dl.selection_indices[lc_indices])\n",
    "\n",
    "    return training_progresses, dev_performances\n",
    "\n",
    "progress_lc, performance_lc = run_experiment(mode='lc')\n",
    "progress_mc, performance_mc = run_experiment(mode='mc')\n",
    "progress_rnd, performance_rnd = run_experiment(mode='rnd')"
   ],
   "metadata": {
    "collapsed": false,
    "pycharm": {
     "name": "#%%\n"
    }
   }
  },
  {
   "cell_type": "code",
   "execution_count": null,
   "outputs": [],
   "source": [],
   "metadata": {
    "collapsed": false,
    "pycharm": {
     "name": "#%%\n"
    }
   }
  },
  {
   "cell_type": "code",
   "execution_count": 73,
   "outputs": [
    {
     "data": {
      "text/plain": "<Figure size 576x432 with 1 Axes>",
      "image/png": "[encoded data removed]"
     },
     "metadata": {
      "needs_background": "light"
     },
     "output_type": "display_data"
    }
   ],
   "source": [
    "import matplotlib.pyplot as plt\n",
    "plt.rcParams['figure.figsize']= [8, 6]\n",
    "plt.plot(performance_lc, label='Least Confident')\n",
    "plt.plot(performance_mc, label='Most Confident')\n",
    "plt.plot(performance_rnd, label='Random')\n",
    "plt.legend();"
   ],
   "metadata": {
    "collapsed": false,
    "pycharm": {
     "name": "#%%\n"
    }
   }
  },
  {
   "cell_type": "code",
   "execution_count": 74,
   "outputs": [
    {
     "data": {
      "text/plain": "<Figure size 576x432 with 1 Axes>",
      "image/png": "[encoded data removed]"
     },
     "metadata": {
      "needs_background": "light"
     },
     "output_type": "display_data"
    }
   ],
   "source": [
    "for i, tp in enumerate(progress_lc):\n",
    "    if i%4 == 0:\n",
    "        plt.plot(tp['dev_performance'], label='size={}'.format((i+1)*k), c='C{}'.format(i//4))\n",
    "plt.legend();\n",
    "for i, tp in enumerate(progress_mc):\n",
    "    if i%4 == 0:\n",
    "        plt.plot(tp['dev_performance'], label='size={}'.format((i+1)*k), linestyle='--', c='C{}'\n",
    "                 .format(i//4))\n",
    "for i, tp in enumerate(progress_rnd):\n",
    "    if i%4 == 0:\n",
    "        plt.plot(tp['dev_performance'], label='size={}'.format((i+1)*k), linestyle=':', c='C{}'\n",
    "                 .format(i//4))\n"
   ],
   "metadata": {
    "collapsed": false,
    "pycharm": {
     "name": "#%%\n"
    }
   }
  },
  {
   "cell_type": "code",
   "execution_count": null,
   "outputs": [],
   "source": [
    "\n",
    "\n",
    "\n",
    "\n",
    "\n",
    "\n",
    "\n",
    "\n",
    "\n",
    "\n",
    "\n",
    "\n",
    "\n",
    "\n",
    "\n",
    "\n",
    "\n",
    "\n",
    "\n",
    "\n",
    "\n",
    "\n",
    "\n",
    "\n",
    "\n",
    "\n",
    "\n",
    "\n",
    "\n"
   ],
   "metadata": {
    "collapsed": false,
    "pycharm": {
     "name": "#%%\n"
    }
   }
  }
 ],
 "metadata": {
  "kernelspec": {
   "name": "venv_nlp",
   "language": "python",
   "display_name": "venv_nlp"
  },
  "language_info": {
   "codemirror_mode": {
    "name": "ipython",
    "version": 2
   },
   "file_extension": ".py",
   "mimetype": "text/x-python",
   "name": "python",
   "nbconvert_exporter": "python",
   "pygments_lexer": "ipython2",
   "version": "2.7.6"
  }
 },
 "nbformat": 4,
 "nbformat_minor": 0
}