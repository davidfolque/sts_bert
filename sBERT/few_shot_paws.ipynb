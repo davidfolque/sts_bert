{
 "cells": [
  {
   "cell_type": "code",
   "execution_count": 1,
   "metadata": {
    "collapsed": true
   },
   "outputs": [],
   "source": [
    "# Only needed in pycharm\n",
    "import os\n",
    "\n",
    "os.chdir('/home/cs-folq1/src/sts_bert/sBERT')"
   ]
  },
  {
   "cell_type": "code",
   "execution_count": 2,
   "metadata": {
    "pycharm": {
     "name": "#%%\n"
    }
   },
   "outputs": [],
   "source": [
    "import torch\n",
    "\n",
    "from Datasets import load_sts, load_paws_wiki\n",
    "from CrossEncoder import CrossEncoder, CrossEncoderPretrained\n",
    "from BiEncoder import BiEncoder\n",
    "from PawsTrainer import PawsTrainer\n",
    "from GridRun import GridRun, random_sample"
   ]
  },
  {
   "cell_type": "code",
   "execution_count": 3,
   "metadata": {
    "pycharm": {
     "name": "#%%\n"
    }
   },
   "outputs": [
    {
     "name": "stderr",
     "output_type": "stream",
     "text": [
      "Reusing dataset stsb_multi_mt (/home/cs-folq1/.cache/huggingface/datasets/stsb_multi_mt/en/1.0.0/bc6de0eaa8d97c28a4c22a07e851b05879ae62c60b0b69dd6b331339e8020f07)\n",
      "Using custom data configuration default-d611463bc29ee5be\n",
      "Reusing dataset csv (/home/cs-folq1/.cache/huggingface/datasets/csv/default-d611463bc29ee5be/0.0.0/2dc6629a9ff6b5697d82c25b73731dd440507a69cbce8b425db50b751e8fcfd0)\n",
      "Using custom data configuration default-74d1f369bad8100c\n",
      "Reusing dataset csv (/home/cs-folq1/.cache/huggingface/datasets/csv/default-74d1f369bad8100c/0.0.0/2dc6629a9ff6b5697d82c25b73731dd440507a69cbce8b425db50b751e8fcfd0)\n",
      "Using custom data configuration default-1e28d5ed0ea0f0e7\n",
      "Reusing dataset csv (/home/cs-folq1/.cache/huggingface/datasets/csv/default-1e28d5ed0ea0f0e7/0.0.0/2dc6629a9ff6b5697d82c25b73731dd440507a69cbce8b425db50b751e8fcfd0)\n"
     ]
    }
   ],
   "source": [
    "# Load datasets.\n",
    "\n",
    "datasets_path = '/home/cs-folq1/rds/rds-t2-cspp025-5bF3aEHVmLU/cs-folq1/datasets/'\n",
    "# datasets_path = '/home/david/Documents/PhD/rds/datasets/'\n",
    "sts_dataset = load_sts()\n",
    "paws_dataset = load_paws_wiki(datasets_path=datasets_path)\n"
   ]
  },
  {
   "cell_type": "code",
   "execution_count": 4,
   "metadata": {
    "pycharm": {
     "name": "#%%\n"
    }
   },
   "outputs": [],
   "source": [
    "# # Train original cross encoder.\n",
    "#\n",
    "# sts_model = CrossEncoder(mode='cls-pooling-hidden')\n",
    "# # sts_model = CrossEncoder(mode='cls-pooling-hidden', bert_model='bert-base-uncased')\n",
    "#\n",
    "# sts_trainer = STSTrainer(model=sts_model, train_dataset=sts_dataset['train'],\n",
    "#                          dataset=sts_dataset, num_epochs=10, lr_scheduler='linear',\n",
    "#                          warmup_percent=0.2)\n",
    "# sts_trainer.train(disable_progress_bar=True)\n",
    "# #original_sts_cross_model_path = './saved_models/few_shot_paws/original_cross_encoder.bin'\n",
    "# #torch.save(sts_model.state_dict(), original_sts_cross_model_patcross_h)\n"
   ]
  },
  {
   "cell_type": "code",
   "execution_count": 4,
   "metadata": {
    "pycharm": {
     "name": "#%%\n"
    }
   },
   "outputs": [],
   "source": [
    "original_sts_cross_model_path = \\\n",
    "    'results/pretraining_sts/results_210702_094435_cross-encoder_cls-pooling-hidden_best_model.bin'\n",
    "original_nli_sts_cross_model_path = \\\n",
    "    'results/pretraining_sts/results_210702_094435_cross-encoder_nli-base_best_model.bin'\n",
    "original_sts_bi_model_path = \\\n",
    "    'results/pretraining_sts/results_210707_152607_bi-encoder_base-cls-pooling_best_model.bin'\n",
    "original_nli_sts_bi_model_path = \\\n",
    "    'results/pretraining_sts/results_210707_152607_bi-encoder_nli-cls-pooling_best_model.bin'"
   ]
  },
  {
   "cell_type": "code",
   "execution_count": null,
   "metadata": {
    "pycharm": {
     "name": "#%%\n"
    }
   },
   "outputs": [],
   "source": [
    "# paws_dataset['dev'] = torch.utils.data.Subset(paws_dataset['dev'], range(1000))\n",
    "# paws_dataset['test'] = torch.utils.data.Subset(paws_dataset['test'], range(1000))"
   ]
  },
  {
   "cell_type": "code",
   "execution_count": 6,
   "metadata": {
    "pycharm": {
     "name": "#%%\n"
    }
   },
   "outputs": [
    {
     "name": "stdout",
     "output_type": "stream",
     "text": [
      "Either results_dir or experiment_name is None: won't store the results\n",
      "Results won't be saved\n",
      "----------\n",
      "RUN CONFIG\n",
      "----------\n",
      "num_epochs :  5\n",
      "batch_size :  16\n",
      "lr :  2e-05\n",
      "pretrained_model :  bi/bert\n",
      "train_size :  2000\n",
      "train_subset_seed :  1\n"
     ]
    },
    {
     "name": "stderr",
     "output_type": "stream",
     "text": [
      "Some weights of the model checkpoint at bert-base-uncased were not used when initializing BertModel: ['cls.seq_relationship.bias', 'cls.seq_relationship.weight', 'cls.predictions.transform.dense.weight', 'cls.predictions.bias', 'cls.predictions.decoder.weight', 'cls.predictions.transform.LayerNorm.bias', 'cls.predictions.transform.LayerNorm.weight', 'cls.predictions.transform.dense.bias']\n",
      "- This IS expected if you are initializing BertModel from the checkpoint of a model trained on another task or with another architecture (e.g. initializing a BertForSequenceClassification model from a BertForPreTraining model).\n",
      "- This IS NOT expected if you are initializing BertModel from the checkpoint of a model that you expect to be exactly identical (initializing a BertForSequenceClassification model from a BertForSequenceClassification model).\n",
      "  2%|▏         | 2/125 [00:00<00:11, 10.90it/s]"
     ]
    },
    {
     "name": "stdout",
     "output_type": "stream",
     "text": [
      "Scheduler type: constant_with_warmup, epochs: 5, steps per epoch: 125, total steps: 625, warmup steps: 0\n"
     ]
    },
    {
     "name": "stderr",
     "output_type": "stream",
     "text": [
      "100%|██████████| 125/125 [00:11<00:00, 10.56it/s]\n",
      "  0%|          | 0/125 [00:00<?, ?it/s]"
     ]
    },
    {
     "name": "stdout",
     "output_type": "stream",
     "text": [
      "Epoch 0   : loss: 0.7115  , score: 0.4780  *\n"
     ]
    },
    {
     "name": "stderr",
     "output_type": "stream",
     "text": [
      "100%|██████████| 125/125 [00:37<00:00,  3.32it/s]\n",
      "100%|██████████| 125/125 [00:12<00:00, 10.12it/s]\n",
      "  0%|          | 0/125 [00:00<?, ?it/s]"
     ]
    },
    {
     "name": "stdout",
     "output_type": "stream",
     "text": [
      "Epoch 1   : loss: 0.7017  , score: 0.5520  *\n"
     ]
    },
    {
     "name": "stderr",
     "output_type": "stream",
     "text": [
      " 61%|██████    | 76/125 [00:22<00:14,  3.31it/s]\n"
     ]
    },
    {
     "ename": "KeyboardInterrupt",
     "evalue": "",
     "output_type": "error",
     "traceback": [
      "\u001b[0;31m---------------------------------------------------------------------------\u001b[0m",
      "\u001b[0;31mKeyboardInterrupt\u001b[0m                         Traceback (most recent call last)",
      "\u001b[0;32m<ipython-input-6-3cfb81160b04>\u001b[0m in \u001b[0;36m<module>\u001b[0;34m\u001b[0m\n\u001b[1;32m     77\u001b[0m \u001b[0;31m#grid_run = GridRun(run_experiment, results_dir='results', experiment_name='paws_from_nli_sts')\u001b[0m\u001b[0;34m\u001b[0m\u001b[0;34m\u001b[0m\u001b[0;34m\u001b[0m\u001b[0m\n\u001b[1;32m     78\u001b[0m \u001b[0mgrid_run\u001b[0m \u001b[0;34m=\u001b[0m \u001b[0mGridRun\u001b[0m\u001b[0;34m(\u001b[0m\u001b[0mrun_experiment\u001b[0m\u001b[0;34m)\u001b[0m\u001b[0;34m\u001b[0m\u001b[0;34m\u001b[0m\u001b[0m\n\u001b[0;32m---> 79\u001b[0;31m \u001b[0mgrid_run\u001b[0m\u001b[0;34m.\u001b[0m\u001b[0mrun\u001b[0m\u001b[0;34m(\u001b[0m\u001b[0mgrid\u001b[0m\u001b[0;34m,\u001b[0m \u001b[0msave_best\u001b[0m\u001b[0;34m=\u001b[0m\u001b[0;32mFalse\u001b[0m\u001b[0;34m)\u001b[0m\u001b[0;34m\u001b[0m\u001b[0;34m\u001b[0m\u001b[0m\n\u001b[0m\u001b[1;32m     80\u001b[0m \u001b[0;34m\u001b[0m\u001b[0m\n",
      "\u001b[0;32m~/src/sts_bert/sBERT/GridRun.py\u001b[0m in \u001b[0;36mrun\u001b[0;34m(self, grid, exec_name, ignore_previous_results, save_best)\u001b[0m\n\u001b[1;32m    117\u001b[0m             \u001b[0;32mfor\u001b[0m \u001b[0mkey\u001b[0m\u001b[0;34m,\u001b[0m \u001b[0mvalue\u001b[0m \u001b[0;32min\u001b[0m \u001b[0mconfig\u001b[0m\u001b[0;34m.\u001b[0m\u001b[0mitems\u001b[0m\u001b[0;34m(\u001b[0m\u001b[0;34m)\u001b[0m\u001b[0;34m:\u001b[0m\u001b[0;34m\u001b[0m\u001b[0;34m\u001b[0m\u001b[0m\n\u001b[1;32m    118\u001b[0m                 \u001b[0mprint\u001b[0m\u001b[0;34m(\u001b[0m\u001b[0mkey\u001b[0m\u001b[0;34m,\u001b[0m \u001b[0;34m': '\u001b[0m\u001b[0;34m,\u001b[0m \u001b[0mvalue\u001b[0m\u001b[0;34m)\u001b[0m\u001b[0;34m\u001b[0m\u001b[0;34m\u001b[0m\u001b[0m\n\u001b[0;32m--> 119\u001b[0;31m             \u001b[0mscore_and_loss\u001b[0m\u001b[0;34m,\u001b[0m \u001b[0mmodel\u001b[0m\u001b[0;34m,\u001b[0m \u001b[0msave_name\u001b[0m \u001b[0;34m=\u001b[0m \u001b[0mself\u001b[0m\u001b[0;34m.\u001b[0m\u001b[0mrun_experiment_fnc\u001b[0m\u001b[0;34m(\u001b[0m\u001b[0mconfig\u001b[0m\u001b[0;34m)\u001b[0m\u001b[0;34m\u001b[0m\u001b[0;34m\u001b[0m\u001b[0m\n\u001b[0m\u001b[1;32m    120\u001b[0m             \u001b[0mresult\u001b[0m \u001b[0;34m=\u001b[0m \u001b[0mscore_and_loss\u001b[0m\u001b[0;34m[\u001b[0m\u001b[0;36m0\u001b[0m\u001b[0;34m]\u001b[0m\u001b[0;34m\u001b[0m\u001b[0;34m\u001b[0m\u001b[0m\n\u001b[1;32m    121\u001b[0m             \u001b[0mprint\u001b[0m\u001b[0;34m(\u001b[0m\u001b[0;34m'Test score: {:.4f}'\u001b[0m\u001b[0;34m.\u001b[0m\u001b[0mformat\u001b[0m\u001b[0;34m(\u001b[0m\u001b[0mresult\u001b[0m\u001b[0;34m)\u001b[0m\u001b[0;34m)\u001b[0m\u001b[0;34m\u001b[0m\u001b[0;34m\u001b[0m\u001b[0m\n",
      "\u001b[0;32m<ipython-input-6-3cfb81160b04>\u001b[0m in \u001b[0;36mrun_experiment\u001b[0;34m(config)\u001b[0m\n\u001b[1;32m     56\u001b[0m                           \u001b[0mnum_epochs\u001b[0m\u001b[0;34m=\u001b[0m\u001b[0mconfig\u001b[0m\u001b[0;34m[\u001b[0m\u001b[0;34m'num_epochs'\u001b[0m\u001b[0;34m]\u001b[0m\u001b[0;34m,\u001b[0m \u001b[0mbatch_size\u001b[0m\u001b[0;34m=\u001b[0m\u001b[0mconfig\u001b[0m\u001b[0;34m[\u001b[0m\u001b[0;34m'batch_size'\u001b[0m\u001b[0;34m]\u001b[0m\u001b[0;34m,\u001b[0m\u001b[0;34m\u001b[0m\u001b[0;34m\u001b[0m\u001b[0m\n\u001b[1;32m     57\u001b[0m                           lr=config['lr'])\n\u001b[0;32m---> 58\u001b[0;31m     \u001b[0mresult\u001b[0m \u001b[0;34m=\u001b[0m \u001b[0mtrainer\u001b[0m\u001b[0;34m.\u001b[0m\u001b[0mtrain\u001b[0m\u001b[0;34m(\u001b[0m\u001b[0mdisable_progress_bar\u001b[0m\u001b[0;34m=\u001b[0m\u001b[0;32mFalse\u001b[0m\u001b[0;34m,\u001b[0m \u001b[0meval_zero_shot\u001b[0m\u001b[0;34m=\u001b[0m\u001b[0;32mTrue\u001b[0m\u001b[0;34m)\u001b[0m\u001b[0;34m\u001b[0m\u001b[0;34m\u001b[0m\u001b[0m\n\u001b[0m\u001b[1;32m     59\u001b[0m     \u001b[0msave_name\u001b[0m \u001b[0;34m=\u001b[0m \u001b[0;34m'pretrained_'\u001b[0m \u001b[0;34m+\u001b[0m \u001b[0mconfig\u001b[0m\u001b[0;34m[\u001b[0m\u001b[0;34m'pretrained_model'\u001b[0m\u001b[0;34m]\u001b[0m\u001b[0;34m\u001b[0m\u001b[0;34m\u001b[0m\u001b[0m\n\u001b[1;32m     60\u001b[0m     \u001b[0;32mreturn\u001b[0m \u001b[0mresult\u001b[0m\u001b[0;34m,\u001b[0m \u001b[0mpaws_model\u001b[0m\u001b[0;34m,\u001b[0m \u001b[0msave_name\u001b[0m\u001b[0;34m\u001b[0m\u001b[0;34m\u001b[0m\u001b[0m\n",
      "\u001b[0;32m~/src/sts_bert/sBERT/Trainer.py\u001b[0m in \u001b[0;36mtrain\u001b[0;34m(self, disable_progress_bar, eval_zero_shot)\u001b[0m\n\u001b[1;32m     79\u001b[0m                     \u001b[0;32mif\u001b[0m \u001b[0mtype\u001b[0m\u001b[0;34m(\u001b[0m\u001b[0mbatch_gold\u001b[0m\u001b[0;34m)\u001b[0m \u001b[0;34m==\u001b[0m \u001b[0mlist\u001b[0m\u001b[0;34m:\u001b[0m\u001b[0;34m\u001b[0m\u001b[0;34m\u001b[0m\u001b[0m\n\u001b[1;32m     80\u001b[0m                         \u001b[0mbatch_gold\u001b[0m \u001b[0;34m=\u001b[0m \u001b[0mtorch\u001b[0m\u001b[0;34m.\u001b[0m\u001b[0mFloatTensor\u001b[0m\u001b[0;34m(\u001b[0m\u001b[0mbatch_gold\u001b[0m\u001b[0;34m)\u001b[0m\u001b[0;34m\u001b[0m\u001b[0;34m\u001b[0m\u001b[0m\n\u001b[0;32m---> 81\u001b[0;31m                     \u001b[0mloss\u001b[0m \u001b[0;34m=\u001b[0m \u001b[0mself\u001b[0m\u001b[0;34m.\u001b[0m\u001b[0mloss_function\u001b[0m\u001b[0;34m(\u001b[0m\u001b[0mbatch_pred\u001b[0m\u001b[0;34m,\u001b[0m \u001b[0mbatch_gold\u001b[0m\u001b[0;34m.\u001b[0m\u001b[0mto\u001b[0m\u001b[0;34m(\u001b[0m\u001b[0mself\u001b[0m\u001b[0;34m.\u001b[0m\u001b[0mmodel\u001b[0m\u001b[0;34m.\u001b[0m\u001b[0mdevice\u001b[0m\u001b[0;34m)\u001b[0m\u001b[0;34m)\u001b[0m\u001b[0;34m\u001b[0m\u001b[0;34m\u001b[0m\u001b[0m\n\u001b[0m\u001b[1;32m     82\u001b[0m                     \u001b[0mloss\u001b[0m\u001b[0;34m.\u001b[0m\u001b[0mbackward\u001b[0m\u001b[0;34m(\u001b[0m\u001b[0;34m)\u001b[0m\u001b[0;34m\u001b[0m\u001b[0;34m\u001b[0m\u001b[0m\n\u001b[1;32m     83\u001b[0m                     \u001b[0mself\u001b[0m\u001b[0;34m.\u001b[0m\u001b[0moptimizer\u001b[0m\u001b[0;34m.\u001b[0m\u001b[0mstep\u001b[0m\u001b[0;34m(\u001b[0m\u001b[0;34m)\u001b[0m\u001b[0;34m\u001b[0m\u001b[0;34m\u001b[0m\u001b[0m\n",
      "\u001b[0;31mKeyboardInterrupt\u001b[0m: "
     ]
    }
   ],
   "source": [
    "# Train on PAWS.\n",
    "\n",
    "def run_experiment(config):\n",
    "    subset_indices = random_sample(n=len(paws_dataset['train']), k=config['train_size'],\n",
    "                                   seed=config['train_subset_seed'])\n",
    "    train_dataset_subset = torch.utils.data.Subset(paws_dataset['train'], subset_indices)\n",
    "\n",
    "    if config['train_size'] < len(paws_dataset['dev']):\n",
    "        dev_subset_indices = random_sample(n=len(paws_dataset['dev']), k=config['train_size'],\n",
    "                                           seed=config['train_subset_seed'])\n",
    "        dev_dataset_subset = torch.utils.data.Subset(paws_dataset['dev'], dev_subset_indices)\n",
    "    else:\n",
    "        dev_dataset_subset = paws_dataset['dev']\n",
    "\n",
    "    encoder, pretrained_model = config['pretrained_model'].split('/')\n",
    "\n",
    "    if encoder == 'cross':\n",
    "        if pretrained_model in ['bert', 'sts']:\n",
    "            sts_model = CrossEncoder(mode='cls-pooling-hidden')\n",
    "            if pretrained_model == 'sts':\n",
    "                print('Loading sts pretrained model from ' + original_sts_cross_model_path)\n",
    "                sts_model.load_state_dict(torch.load(original_sts_cross_model_path))\n",
    "        elif pretrained_model in ['nli', 'nli-sts']:\n",
    "            sts_model = CrossEncoder(mode='nli-base')\n",
    "            if pretrained_model == 'nli-sts':\n",
    "                print('Loading nli and sts pretrained model from ' +\n",
    "                    original_nli_sts_cross_model_path)\n",
    "                sts_model.load_state_dict(torch.load(original_nli_sts_cross_model_path))\n",
    "        else:\n",
    "            assert(pretrained_model == 'nli-3rd-component')\n",
    "            sts_model = CrossEncoder(mode='nli-head-3rd-component')\n",
    "\n",
    "        if pretrained_model in ['bert', 'nli', 'nli-3rd-component']:\n",
    "            paws_model = CrossEncoderPretrained(sts_model, mode='as-is')\n",
    "        else:\n",
    "            assert(pretrained_model in ['sts', 'nli-sts'])\n",
    "            paws_model = CrossEncoderPretrained(sts_model, mode='shift-bias')\n",
    "    else:\n",
    "        assert(encoder == 'bi')\n",
    "        if pretrained_model == 'nli':\n",
    "            paws_model = BiEncoder(mode='nli-linear-pooling', head='extra-head-sub')\n",
    "        else:\n",
    "            paws_model = BiEncoder(mode='base-linear-pooling', head='extra-head-sub')\n",
    "            if pretrained_model == 'nli-sts':\n",
    "                print('Loading nli and sts pretrained model from ' + original_nli_sts_bi_model_path)\n",
    "                paws_model.load_state_dict(torch.load(original_nli_sts_bi_model_path))\n",
    "            elif pretrained_model == 'sts':\n",
    "                print('Loading sts pretrained model from ' + original_sts_bi_model_path)\n",
    "                paws_model.load_state_dict(torch.load(original_sts_bi_model_path))\n",
    "            else:\n",
    "                assert(pretrained_model == 'bert')\n",
    "\n",
    "\n",
    "    trainer = PawsTrainer(model=paws_model, train_dataset=train_dataset_subset,\n",
    "                          dataset={'dev': dev_dataset_subset, 'test': paws_dataset['test']},\n",
    "                          num_epochs=config['num_epochs'], batch_size=config['batch_size'],\n",
    "                          lr=config['lr'])\n",
    "    result = trainer.train(disable_progress_bar=False, eval_zero_shot=True)\n",
    "    save_name = 'pretrained_' + config['pretrained_model']\n",
    "    return result, paws_model, save_name\n",
    "\n",
    "\n",
    "grid = {\n",
    "    'num_epochs': 5,  # Size 5000 => 50s per epoch????\n",
    "    'batch_size': 16,\n",
    "    'lr': 2e-5,\n",
    "    'pretrained_model': [\n",
    "        #'cross/bert', 'cross/nli-3rd-component', 'cross/sts', 'cross/nli-sts',\n",
    "        #'bi/bert', 'bi/nli', 'bi/sts', 'bi/nli-sts'],\n",
    "    # 'mode': ['replace-head', 'shift-bias', 'additional-head'],\n",
    "    # 'mode': 'shift-bias',\n",
    "    'train_size': 2000,\n",
    "    # 'train_size': [10, 50, 100, 500, 1000, 2000, 5000, 10000],\n",
    "    'train_subset_seed': [1, 2, 3]\n",
    "}\n",
    "\n",
    "#grid_run = GridRun(run_experiment, results_dir='results', experiment_name='paws_from_nli_sts')\n",
    "grid_run = GridRun(run_experiment)\n",
    "grid_run.run(grid, save_best=False)"
   ]
  },
  {
   "cell_type": "code",
   "execution_count": 31,
   "metadata": {
    "pycharm": {
     "name": "#%%\n"
    }
   },
   "outputs": [
    {
     "name": "stdout",
     "output_type": "stream",
     "text": [
      "The Soviet Union maintained an embassy in Oslo and a consulate in Barentsburg , while Norway maintained a message in Moscow .\n",
      "The Soviet Union maintained an embassy in Moscow and a consulate in Barentsburg , while Norway maintained a message in Oslo .\n",
      "0\n",
      "0.9057887196540833\n"
     ]
    }
   ],
   "source": [
    "def test_sent(k):\n",
    "    print(paws_dataset['train'][k]['sentence1'])\n",
    "    print(paws_dataset['train'][k]['sentence2'])\n",
    "    print(paws_dataset['train'][k]['label'])\n",
    "    print(sts_model.predict_batch(paws_dataset['train'][k]['sentence1'],\n",
    "                                  paws_dataset['train'][k]['sentence2']).item())\n",
    "test_sent(8)"
   ]
  },
  {
   "cell_type": "code",
   "execution_count": 25,
   "metadata": {
    "pycharm": {
     "name": "#%%\n"
    }
   },
   "outputs": [
    {
     "name": "stdout",
     "output_type": "stream",
     "text": [
      "Scheduler type: constant_with_warmup, epochs: 1, steps per epoch: 3088, total steps: 3088, warmup steps: 0\n"
     ]
    }
   ],
   "source": [
    "paws_model = CrossEncoderPretrained(sts_model, mode='additional-head')\n",
    "paws_trainer = PawsTrainer(model=paws_model, train_dataset=paws_dataset['train'],\n",
    "                           dataset=paws_dataset, num_epochs=1, batch_size=16)"
   ]
  },
  {
   "cell_type": "code",
   "execution_count": 42,
   "metadata": {
    "pycharm": {
     "name": "#%%\n"
    }
   },
   "outputs": [
    {
     "name": "stderr",
     "output_type": "stream",
     "text": [
      "100%|██████████| 3088/3088 [08:07<00:00,  6.34it/s]\n",
      "100%|██████████| 500/500 [00:30<00:00, 16.48it/s]\n",
      "  0%|          | 2/500 [00:00<00:30, 16.11it/s]"
     ]
    },
    {
     "name": "stdout",
     "output_type": "stream",
     "text": [
      "Epoch 1   : loss: 0.6917  , score: 0.5576  *\n"
     ]
    },
    {
     "name": "stderr",
     "output_type": "stream",
     "text": [
      "100%|██████████| 500/500 [00:30<00:00, 16.28it/s]"
     ]
    },
    {
     "name": "stdout",
     "output_type": "stream",
     "text": [
      "Test loss: 0.6917, score: 0.5580\n"
     ]
    },
    {
     "name": "stderr",
     "output_type": "stream",
     "text": [
      "\n"
     ]
    },
    {
     "data": {
      "text/plain": [
       "(0.558, tensor(0.6917))"
      ]
     },
     "execution_count": 42,
     "metadata": {},
     "output_type": "execute_result"
    }
   ],
   "source": [
    "paws_trainer.train(disable_progress_bar=False, eval_zero_shot=False)"
   ]
  },
  {
   "cell_type": "code",
   "execution_count": 44,
   "metadata": {
    "pycharm": {
     "name": "#%%\n"
    }
   },
   "outputs": [
    {
     "data": {
      "text/plain": [
       "Parameter containing:\n",
       "tensor([[1.0055]], device='cuda:0', requires_grad=True)"
      ]
     },
     "execution_count": 44,
     "metadata": {},
     "output_type": "execute_result"
    }
   ],
   "source": [
    "#list(paws_model.pretrained_cross_encoder.output_layer.parameters())[0].grad\n",
    "list(paws_model.extra_head.parameters())[0]"
   ]
  },
  {
   "cell_type": "code",
   "execution_count": 6,
   "metadata": {
    "pycharm": {
     "name": "#%%\n"
    }
   },
   "outputs": [
    {
     "name": "stderr",
     "output_type": "stream",
     "text": [
      "100%|██████████| 500/500 [00:31<00:00, 15.97it/s]\n"
     ]
    }
   ],
   "source": [
    "dev_pred, dev_gold = paws_trainer.predict(paws_trainer.dev_dl)"
   ]
  },
  {
   "cell_type": "code",
   "execution_count": 18,
   "metadata": {
    "pycharm": {
     "name": "#%%\n"
    }
   },
   "outputs": [
    {
     "data": {
      "text/plain": [
       "Text(0, 0.5, '# samples')"
      ]
     },
     "execution_count": 18,
     "metadata": {},
     "output_type": "execute_result"
    },
    {
     "data": {
      "image/png": "[encoded data removed]",
      "text/plain": [
       "<Figure size 432x288 with 1 Axes>"
      ]
     },
     "metadata": {
      "needs_background": "light"
     },
     "output_type": "display_data"
    }
   ],
   "source": [
    "import matplotlib.pyplot as plt\n",
    "import numpy as np\n",
    "\n",
    "dev_pred = np.array(dev_pred)\n",
    "dev_gold = np.array(dev_gold)\n",
    "plt.hist([dev_pred[dev_gold == k] for k in [0, 1]], log='y')\n",
    "plt.title('STS trained model on PAWS (dev set)')\n",
    "plt.legend(['Negative samples', 'Positive samples'])\n",
    "plt.xlabel('Output of STS trained model')\n",
    "plt.ylabel('# samples')"
   ]
  },
  {
   "cell_type": "code",
   "execution_count": 13,
   "metadata": {
    "pycharm": {
     "name": "#%%\n"
    }
   },
   "outputs": [
    {
     "data": {
      "application/vnd.jupyter.widget-view+json": {
       "model_id": "2b268b2f019642319862b77186f717b6",
       "version_major": 2,
       "version_minor": 0
      },
      "text/plain": [
       "HBox(children=(FloatProgress(value=0.0, description='Downloading', max=231508.0, style=ProgressStyle(descripti…"
      ]
     },
     "metadata": {},
     "output_type": "display_data"
    },
    {
     "name": "stdout",
     "output_type": "stream",
     "text": [
      "\n"
     ]
    },
    {
     "data": {
      "application/vnd.jupyter.widget-view+json": {
       "model_id": "7a6a6f26b0484ebdb7ffcbb06226bb96",
       "version_major": 2,
       "version_minor": 0
      },
      "text/plain": [
       "HBox(children=(FloatProgress(value=0.0, description='Downloading', max=2.0, style=ProgressStyle(description_wi…"
      ]
     },
     "metadata": {},
     "output_type": "display_data"
    },
    {
     "name": "stdout",
     "output_type": "stream",
     "text": [
      "\n"
     ]
    },
    {
     "data": {
      "application/vnd.jupyter.widget-view+json": {
       "model_id": "9ac674754dad4e509a01f5bf0d00aa89",
       "version_major": 2,
       "version_minor": 0
      },
      "text/plain": [
       "HBox(children=(FloatProgress(value=0.0, description='Downloading', max=112.0, style=ProgressStyle(description_…"
      ]
     },
     "metadata": {},
     "output_type": "display_data"
    },
    {
     "name": "stdout",
     "output_type": "stream",
     "text": [
      "\n"
     ]
    },
    {
     "data": {
      "application/vnd.jupyter.widget-view+json": {
       "model_id": "ddbff91d644745a59621bc7996c876c1",
       "version_major": 2,
       "version_minor": 0
      },
      "text/plain": [
       "HBox(children=(FloatProgress(value=0.0, description='Downloading', max=395.0, style=ProgressStyle(description_…"
      ]
     },
     "metadata": {},
     "output_type": "display_data"
    },
    {
     "name": "stdout",
     "output_type": "stream",
     "text": [
      "\n"
     ]
    },
    {
     "data": {
      "application/vnd.jupyter.widget-view+json": {
       "model_id": "6d57f8ca137f4b21b3ff0c135715cfe9",
       "version_major": 2,
       "version_minor": 0
      },
      "text/plain": [
       "HBox(children=(FloatProgress(value=0.0, description='Downloading', max=466081.0, style=ProgressStyle(descripti…"
      ]
     },
     "metadata": {},
     "output_type": "display_data"
    },
    {
     "name": "stdout",
     "output_type": "stream",
     "text": [
      "\n"
     ]
    }
   ],
   "source": [
    "from transformers import BertModel, BertTokenizer\n",
    "sbert = BertModel.from_pretrained('sentence-transformers/bert-base-nli-cls-token')\n",
    "sbert_token = BertTokenizer.from_pretrained('sentence-transformers/bert-base-nli-cls-token')"
   ]
  },
  {
   "cell_type": "code",
   "execution_count": 23,
   "metadata": {
    "pycharm": {
     "name": "#%%\n"
    }
   },
   "outputs": [
    {
     "data": {
      "text/plain": [
       "BaseModelOutputWithPoolingAndCrossAttentions(last_hidden_state=tensor([[[-0.7820,  0.2361,  0.0953,  ...,  0.0895, -0.0735,  0.7291],\n",
       "         [-0.7546,  0.2164,  0.9367,  ...,  0.0076, -0.0278,  0.2581],\n",
       "         [-0.2837,  0.0139,  0.4588,  ...,  0.1102, -0.0616,  0.2473],\n",
       "         ...,\n",
       "         [-0.8114,  0.1433,  0.8264,  ...,  0.0843, -0.3883,  0.3078],\n",
       "         [-0.2654,  0.1999,  0.6485,  ..., -0.1434, -0.4313,  0.1967],\n",
       "         [ 0.3256, -0.0805,  0.4072,  ...,  0.5938, -0.2460, -0.2066]]],\n",
       "       grad_fn=<NativeLayerNormBackward>), pooler_output=tensor([[-0.8601, -0.4748, -0.3709,  0.7743,  0.7137, -0.5542,  0.9498,  0.1424,\n",
       "          0.0755, -0.9986, -0.0895,  0.8266,  0.8533,  0.1388,  0.9444, -0.8497,\n",
       "         -0.7290, -0.5807,  0.4533, -0.7712,  0.6227,  0.9999, -0.0887,  0.1198,\n",
       "          0.1411,  0.8625, -0.9238,  0.9428,  0.9152,  0.7683, -0.7814,  0.1612,\n",
       "         -0.9646, -0.5027, -0.9285, -0.9684,  0.2071, -0.7986, -0.5763, -0.1284,\n",
       "         -0.9623,  0.3751,  0.9992, -0.0380,  0.6402, -0.1991, -1.0000,  0.4802,\n",
       "         -0.9475,  0.3730,  0.6695, -0.0513,  0.4093,  0.5764,  0.3764,  0.0958,\n",
       "          0.3060,  0.3833, -0.3192, -0.5941, -0.6340,  0.4959, -0.6904, -0.9063,\n",
       "          0.7274,  0.4718, -0.3103, -0.4829, -0.3127,  0.3080,  0.9182,  0.2062,\n",
       "          0.5601, -0.9191, -0.3134,  0.5973, -0.5479,  1.0000, -0.4861, -0.9813,\n",
       "          0.8820,  0.1781,  0.4538, -0.3660,  0.3180, -1.0000,  0.6718, -0.3061,\n",
       "         -0.9599,  0.5600,  0.7479, -0.3713,  0.5858,  0.4359, -0.4235, -0.3900,\n",
       "         -0.4615, -0.9826, -0.5725, -0.0439,  0.4005, -0.3533, -0.4329, -0.4866,\n",
       "          0.4985, -0.3700, -0.6330,  0.1097,  0.2478,  0.6793,  0.3623, -0.5512,\n",
       "          0.6628, -0.9632,  0.1397, -0.4502, -0.9573, -0.4479, -0.9730,  0.7226,\n",
       "         -0.5928, -0.5564,  0.8853, -0.0176,  0.5106, -0.3343, -0.2377, -1.0000,\n",
       "         -0.1643, -0.9565, -0.2348, -0.5814, -0.9079, -0.9724,  0.6826,  0.9552,\n",
       "          0.3925,  0.9970, -0.4234,  0.8857,  0.5344, -0.8508,  0.1810, -0.5201,\n",
       "          0.8699,  0.6303, -0.8725,  0.4150, -0.2538,  0.0333, -0.8001, -0.2852,\n",
       "         -0.7302, -0.9570, -0.3836,  0.9044, -0.3202, -0.3785,  0.3379, -0.1984,\n",
       "         -0.7071,  0.9004,  0.8574,  0.3414,  0.0053,  0.4216,  0.1909,  0.6253,\n",
       "         -0.8589,  0.1399,  0.3696, -0.4089, -0.5996, -0.9701, -0.5184,  0.3110,\n",
       "          0.9782,  0.8138,  0.4746, -0.1489, -0.3676,  0.5797, -0.9413,  0.9539,\n",
       "         -0.5176,  0.2751, -0.6667,  0.3238, -0.9321,  0.3926,  0.7024,  0.0272,\n",
       "         -0.8914, -0.5298, -0.4370, -0.3271, -0.8838,  0.6136, -0.4099, -0.3320,\n",
       "         -0.4164,  0.9272,  0.9656,  0.7500,  0.2229,  0.6277, -0.8956, -0.7071,\n",
       "          0.1231,  0.4470,  0.7324,  0.9733, -0.6977, -0.3782, -0.9321, -0.9577,\n",
       "          0.4477, -0.8765, -0.3766, -0.8587,  0.6722, -0.0329, -0.2308,  0.3667,\n",
       "         -0.9925, -0.8409,  0.4544, -0.1763,  0.4761, -0.2173,  0.8006,  0.9344,\n",
       "         -0.4958,  0.9017,  0.9405, -0.9049, -0.8368,  0.9489, -0.3802,  0.8930,\n",
       "         -0.6206,  0.9778,  0.9452,  0.6459, -0.7865, -0.8325, -0.9034, -0.0236,\n",
       "         -0.4576, -0.3174,  0.4144,  0.5125,  0.4052, -0.4435, -0.3295,  0.9967,\n",
       "         -0.8807, -0.9425, -0.6821,  0.3883, -0.9559,  0.7197,  0.4866,  0.7988,\n",
       "         -0.5854, -0.5610, -0.9742,  0.9303,  0.4324,  0.9835, -0.4921, -0.8832,\n",
       "         -0.4421, -0.9531,  0.4127, -0.2062, -0.1450,  0.1903, -0.9586,  0.6005,\n",
       "          0.7208,  0.3883, -0.2017,  0.9973,  1.0000,  0.9287,  0.8786,  0.8359,\n",
       "         -0.9993, -0.4400,  0.9959, -0.9640, -1.0000, -0.9293, -0.8382,  0.7050,\n",
       "         -1.0000, -0.5802, -0.2319, -0.9051,  0.4320,  0.9075,  0.9887, -1.0000,\n",
       "          0.6097,  0.8730, -0.6806,  0.7585, -0.2614,  0.9454,  0.8560,  0.3754,\n",
       "         -0.1545,  0.4251, -0.8853, -0.7877, -0.6052, -0.9125,  0.9922,  0.5932,\n",
       "         -0.4154, -0.9310,  0.5016, -0.5216,  0.0361, -0.9746, -0.5486,  0.3537,\n",
       "          0.7619,  0.2741,  0.2593, -0.8995,  0.6998,  0.5653,  0.5508,  0.4733,\n",
       "         -0.7990, -0.5965, -0.7869, -0.5801, -0.2224, -0.9460,  0.9649, -0.4560,\n",
       "          0.4366,  1.0000,  0.5469, -0.9402,  0.5755,  0.2688, -0.8878,  1.0000,\n",
       "          0.7071, -0.9658, -0.3120,  0.1967, -0.3238, -0.2618,  0.9808, -0.3398,\n",
       "         -0.3795, -0.3984,  0.9684, -0.9472,  0.9949, -0.8377, -0.9525,  0.9505,\n",
       "          0.9484, -0.8604, -0.7890, -0.0219, -0.6594,  0.5871, -0.9224,  0.6485,\n",
       "          0.7132, -0.2964,  0.9292, -0.8815, -0.3527,  0.4968, -0.9439,  0.0097,\n",
       "          0.9056,  0.2059, -0.6433,  0.1475, -0.7261, -0.5130, -0.9233,  0.5115,\n",
       "          1.0000, -0.1934,  0.8906,  0.1964, -0.1193,  0.4958,  0.4200,  0.6034,\n",
       "         -0.5080, -0.6507,  0.7205, -0.9076, -0.9376,  0.9495,  0.5491, -0.3644,\n",
       "          0.9999,  0.5757,  0.4630,  0.3085,  0.8003,  0.4579,  0.8123,  0.5388,\n",
       "          0.9716, -0.2983,  0.4911,  0.9511, -0.6423, -0.6728, -0.4451,  0.4258,\n",
       "         -0.9615, -0.3619, -0.9417,  0.9782,  0.2725,  0.5353,  0.6440,  0.8893,\n",
       "          1.0000, -0.2403,  0.8645, -0.8316,  0.9626, -0.9998, -0.8662, -0.3748,\n",
       "         -0.4425, -0.0962, -0.3558,  0.5380, -0.9140,  0.5573,  0.7318, -0.9898,\n",
       "         -0.9495, -0.0449,  0.6654,  0.2163, -0.9938, -0.4160, -0.5148,  0.5379,\n",
       "         -0.4848, -0.9789,  0.4891, -0.4510,  0.4971, -0.3819,  0.3158,  0.5457,\n",
       "          0.3113, -0.7769, -0.2819, -0.3666, -0.9025,  0.7594, -0.6629, -0.6256,\n",
       "         -0.3013,  1.0000, -0.9147,  0.8126,  0.8890,  0.9068, -0.5465,  0.3526,\n",
       "          0.9282,  0.5097, -0.4384, -0.4899, -0.9083, -0.4221,  0.4650,  0.6968,\n",
       "          0.3668,  0.9390,  0.8387,  0.3399, -0.2557,  0.4412,  0.9989, -0.3035,\n",
       "          0.0490, -0.5546, -0.3452, -0.4083, -0.9206,  1.0000,  0.4726,  0.3145,\n",
       "         -0.9454, -0.8092, -0.8860,  1.0000,  0.9476, -0.8076,  0.8506,  0.7025,\n",
       "         -0.4372,  0.8194, -0.3671, -0.5445,  0.2164,  0.5118,  0.9404, -0.4097,\n",
       "         -0.9395, -0.8136,  0.2826, -0.9066,  0.9995, -0.3236, -0.1073, -0.6212,\n",
       "          0.5208,  0.8584,  0.5344, -0.9453, -0.1404,  0.3803,  0.9654,  0.4001,\n",
       "         -0.2857, -0.8853,  0.7992,  0.9230, -0.3982, -0.9228,  0.9682, -0.9769,\n",
       "          0.3296,  1.0000,  0.3793, -0.6040,  0.3460, -0.5588,  0.5559, -0.7967,\n",
       "          0.8127, -0.9683, -0.4939, -0.6036,  0.1376, -0.4349, -0.0885,  0.6974,\n",
       "          0.4689, -0.3028, -0.5705, -0.3851,  0.7457,  0.8598, -0.4419, -0.1885,\n",
       "          0.2591, -0.3624, -0.9481, -0.3870, -0.5301, -1.0000,  0.7937, -1.0000,\n",
       "          0.8690, -0.3850, -0.4597,  0.9593,  0.2470,  0.7097, -0.8969, -0.4394,\n",
       "          0.5637,  0.8504, -0.7205,  0.5458, -0.8606,  0.6107, -0.4311,  0.1573,\n",
       "         -0.5020,  0.7522, -0.2960,  1.0000,  0.2879, -0.4681, -0.9866,  0.0928,\n",
       "         -0.6329,  1.0000, -0.8867, -0.9466,  0.4589, -0.8498, -0.9296,  0.5582,\n",
       "          0.4123, -0.8076, -0.8462,  0.9116,  0.8824, -0.2472,  0.6247, -0.5342,\n",
       "         -0.5650,  0.4926,  0.4862,  0.9703,  0.7425,  0.9175,  0.2183, -0.7369,\n",
       "          0.9118,  0.7207,  0.8296,  0.2044,  1.0000,  0.4521, -0.9414, -0.7153,\n",
       "         -0.9574, -0.5590, -0.9864,  0.3318,  0.5270,  0.8984, -0.5522,  0.8886,\n",
       "          0.1041,  0.4058, -0.6465, -0.4809,  0.1615, -0.8994, -0.9613, -0.9653,\n",
       "          0.5235, -0.3243, -0.3551,  0.4973,  0.4423,  0.4914,  0.4833, -1.0000,\n",
       "          0.9352,  0.5350,  0.6175,  0.9189,  0.7852,  0.4787,  0.5459, -0.9535,\n",
       "         -0.9924, -0.4311, -0.5023,  0.7672,  0.5251,  0.9605,  0.4350, -0.5678,\n",
       "         -0.2461, -0.1609, -0.7166, -0.9829,  0.5025,  0.3535, -0.9682,  0.9777,\n",
       "          0.0036, -0.3333,  0.3299, -0.7700,  0.9350,  0.8401,  0.8616,  0.2363,\n",
       "          0.7217,  0.9054,  0.9143,  0.9388, -0.2727,  0.7246,  0.0539,  0.4034,\n",
       "          0.7995, -0.9603,  0.5712,  0.4909, -0.6002,  0.4909, -0.4120, -0.9867,\n",
       "          0.1590, -0.3158,  0.8122, -0.4161, -0.0326, -0.4631, -0.3743, -0.8312,\n",
       "         -0.8106,  0.4436,  0.6648,  0.9130,  0.8161, -0.5440, -0.2499, -0.2347,\n",
       "         -0.2017, -0.9486,  0.8694, -0.5364, -0.2428,  0.9012,  0.1805,  0.5136,\n",
       "         -0.2897, -0.2532, -0.5809, -0.6841,  0.5353,  0.5147, -0.4480, -0.7514,\n",
       "          0.4619,  0.6236,  0.9999, -0.1123,  0.4516,  0.1340, -0.4245,  0.5931,\n",
       "         -0.3692, -1.0000,  0.4884,  0.3002,  0.4631, -0.8902,  0.4144, -0.1126,\n",
       "         -0.9774, -0.5540,  0.4649,  0.8908, -0.1028, -0.6314,  0.3485,  0.8927,\n",
       "          0.8853,  0.7945, -0.2642,  0.3940,  0.4727, -0.9333, -0.6055,  0.9757]],\n",
       "       grad_fn=<TanhBackward>), hidden_states=None, past_key_values=None, attentions=None, cross_attentions=None)"
      ]
     },
     "execution_count": 23,
     "metadata": {},
     "output_type": "execute_result"
    }
   ],
   "source": [
    "sbert(**sbert_token(['Hello world'], ['Hello world'], return_tensors='pt'))\n",
    "#sbert.base_model"
   ]
  },
  {
   "cell_type": "code",
   "execution_count": null,
   "metadata": {
    "pycharm": {
     "name": "#%%\n"
    }
   },
   "outputs": [],
   "source": [
    "\n",
    "\n",
    "\n",
    "\n",
    "\n",
    "\n",
    "\n",
    "\n",
    "\n",
    "\n",
    "\n",
    "\n",
    "\n",
    "\n",
    "\n",
    "\n",
    "\n",
    "\n",
    "\n"
   ]
  },
  {
   "cell_type": "code",
   "execution_count": null,
   "metadata": {
    "pycharm": {
     "name": "#%%\n"
    }
   },
   "outputs": [],
   "source": []
  },
  {
   "cell_type": "code",
   "execution_count": null,
   "metadata": {
    "pycharm": {
     "name": "#%%\n"
    }
   },
   "outputs": [],
   "source": []
  }
 ],
 "metadata": {
  "kernelspec": {
   "display_name": "pytorch_env",
   "language": "python",
   "name": "pytorch_env"
  },
  "language_info": {
   "codemirror_mode": {
    "name": "ipython",
    "version": 3
   },
   "file_extension": ".py",
   "mimetype": "text/x-python",
   "name": "python",
   "nbconvert_exporter": "python",
   "pygments_lexer": "ipython3",
   "version": "3.8.10"
  }
 },
 "nbformat": 4,
 "nbformat_minor": 1
}
